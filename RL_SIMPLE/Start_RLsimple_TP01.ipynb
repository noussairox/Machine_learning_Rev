{
 "cells": [
  {
   "cell_type": "markdown",
   "metadata": {},
   "source": [
    "# TP1: Régression Linéaire simple\n",
    " "
   ]
  },
  {
   "cell_type": "markdown",
   "metadata": {},
   "source": [
    "La régression linéaire simple est un algorithme prédictif supervisé. Il prend en entrée une variable prédictive x et va essayer de trouver une fonction de prédiction  $h_\\theta(x)$ étant une droite, elle s’écrira mathématiquement sous la forme :\n",
    "$$ h_\\theta(x)=\\theta_0+\\theta_1 x$$\n",
    " Avec $ \\theta_0$ et $ \\theta_1$ sont les coefficients de la droite."
   ]
  },
  {
   "cell_type": "markdown",
   "metadata": {},
   "source": [
    "Le but  revient à trouver un couple $(\\theta_0,\\theta_1)$ optimal tel que $h_\\theta(x)$ soit le plus proche possible de $y$ (la valeur qu’on essaie de prédire). Et ce, pour tous les couples $(x,y)$ qui forment notre ensemble de données d’apprentissage $ \\{ (x_{i},y_{i}) \\in R^{2}, i=1...n \\}$.\n",
    " La fonction $h_\\theta$ va essayer de transformer au mieux  $x_i$ en $y_i$ tel que  $$ h_\\theta(x_i)\\approx y_i  \\forall i \\in \\{1 ... n\\}$$\n",
    " <img src=\"1.png\" style=\"with:100px;height:200px\"/>"
   ]
  },
  {
   "cell_type": "markdown",
   "metadata": {},
   "source": [
    "## A- Methode1:Moindres carrés"
   ]
  },
  {
   "cell_type": "markdown",
   "metadata": {},
   "source": [
    "Dans le cas d'une régression lineaire simple nous avons la solution directe suivante:\n",
    "$$\\theta_{1}=\\frac{\\sum_{i=0}^{m}x_{i}y_{i}-m\\overline{x}\\overline{y}}{\\sum_{i=0}^{m}x_{i}^2-m\\overline{x}^2} $$\n",
    "\n",
    "$$\\theta_{0}=\\overline{y}-w_{1}\\overline{x}$$\n",
    "\n",
    "Où $\\overline{x}$ est la moyenne des éléments de x et $\\overline{y}$ est la moyenne des éléments de y\n",
    "\n",
    "## Question1\n",
    "-L'étude d'un marché présente des quantités offertes (X) et des prix d'achat (Y) (en dhs)  a donné les résultats suivants;\t\n",
    " <img src=\"2.png\" style=\"with:30px;height:60px\"/>\n",
    " a-En utilisant numpy afficher X et Y"
   ]
  },
  {
   "cell_type": "code",
   "execution_count": 2,
   "metadata": {},
   "outputs": [
    {
     "data": {
      "text/plain": [
       "(array([ 2,  4, 14,  8, 12]), array([10,  8,  2,  6,  4]))"
      ]
     },
     "execution_count": 2,
     "metadata": {},
     "output_type": "execute_result"
    }
   ],
   "source": [
    "import numpy as np\n",
    "X = np.array([2,4,14,8,12])\n",
    "Y = np.array([10,8,2,6,4])\n",
    "X,Y"
   ]
  },
  {
   "cell_type": "markdown",
   "metadata": {},
   "source": [
    "b-Ecrire un script qui calcule les valeur de $\\theta_{0}$, $\\theta_{1}$ "
   ]
  },
  {
   "cell_type": "code",
   "execution_count": 7,
   "metadata": {},
   "outputs": [
    {
     "data": {
      "text/plain": [
       "(-0.6153846153846154, 10.923076923076923)"
      ]
     },
     "execution_count": 7,
     "metadata": {},
     "output_type": "execute_result"
    }
   ],
   "source": [
    "m = np.size(X)\n",
    "y_moyenne = Y.mean()\n",
    "x_moyenne = X.mean()\n",
    "MM_XY = np.sum(X*Y) - m * x_moyenne * y_moyenne\n",
    "MM_XX = np.sum(X*X) - m * x_moyenne * x_moyenne\n",
    "theta_1 = MM_XY/MM_XX\n",
    "theta_0= y_moyenne - theta_1*x_moyenne\n",
    "theta_1 , theta_0\n"
   ]
  },
  {
   "cell_type": "markdown",
   "metadata": {},
   "source": [
    "c-Déterminer la fonction de prédiction $ h_\\theta(x)=\\theta_0+\\theta_1 x$"
   ]
  },
  {
   "cell_type": "code",
   "execution_count": 8,
   "metadata": {},
   "outputs": [],
   "source": [
    "def prediction(x):\n",
    "    return theta_0 + theta_1 *x"
   ]
  },
  {
   "cell_type": "markdown",
   "metadata": {},
   "source": [
    "  d-Quelle prix d'achat peut-on prévoir avec un prix d'achat de x=10"
   ]
  },
  {
   "cell_type": "code",
   "execution_count": 9,
   "metadata": {},
   "outputs": [
    {
     "data": {
      "text/plain": [
       "4.769230769230769"
      ]
     },
     "execution_count": 9,
     "metadata": {},
     "output_type": "execute_result"
    }
   ],
   "source": [
    "prediction(10)"
   ]
  },
  {
   "cell_type": "markdown",
   "metadata": {},
   "source": [
    "e-visualiser les résultats "
   ]
  },
  {
   "cell_type": "code",
   "execution_count": 15,
   "metadata": {},
   "outputs": [
    {
     "data": {
      "text/plain": [
       "[<matplotlib.lines.Line2D at 0x1f83df78d00>]"
      ]
     },
     "execution_count": 15,
     "metadata": {},
     "output_type": "execute_result"
    },
    {
     "data": {
      "image/png": "[encoded data removed]",
      "text/plain": [
       "<Figure size 432x288 with 1 Axes>"
      ]
     },
     "metadata": {
      "needs_background": "light"
     },
     "output_type": "display_data"
    }
   ],
   "source": [
    "import matplotlib.pyplot as plt\n",
    "plt.scatter(X,Y)\n",
    "plt.plot(X,prediction(X), c='orange')"
   ]
  },
  {
   "cell_type": "markdown",
   "metadata": {},
   "source": [
    "f-Déterminer le coefficient de determination $R^2=1-\\frac{\\sum_{i=0}^{m}(y_{i}-h_\\theta(x_{i}))}{\\sum_{i=0}^{m}(y_{i}-\\overline{y})^2}$ et le coefficient de coerrélation $R=\\frac{cov(X,Y)}{\\sigma(x)\\sigma(y)}=\\frac{\\sum_{i=0}^{m}x_{i}y_{i}-m\\overline{x}\\overline{y}}{\\sqrt{\\sum_{i=0}^{m} (x_{i}^2-m\\overline{x}^2 ) (\\sum_{i=0}^{m}x_{i}^2-m\\overline{x}^2)}}$"
   ]
  },
  {
   "cell_type": "code",
   "execution_count": 16,
   "metadata": {},
   "outputs": [],
   "source": [
    "def coef_determination(y,pred):\n",
    "    u = ((y-pred)**2).sum()\n",
    "    v = ((y-y.mean())**2).sum()\n",
    "    return 1 - u/v"
   ]
  },
  {
   "cell_type": "code",
   "execution_count": 17,
   "metadata": {},
   "outputs": [
    {
     "data": {
      "text/plain": [
       "0.9846153846153847"
      ]
     },
     "execution_count": 17,
     "metadata": {},
     "output_type": "execute_result"
    }
   ],
   "source": [
    "coef_determination(Y,prediction(X))"
   ]
  },
  {
   "cell_type": "code",
   "execution_count": 18,
   "metadata": {},
   "outputs": [],
   "source": [
    "def coef_correlation(x,y):\n",
    "    m = np.size(x)\n",
    "    m_x = np.mean(x)\n",
    "    m_y = np.mean(y)\n",
    "    SS_xy = np.sum(y*x) - m*m_y*m_x\n",
    "    SS_xx = np.sqrt((np.sum(x*x) - m*m_x*m_x)*(np.sum(y*y) - m*m_y*m_y))\n",
    "    return  SS_xy/SS_xx "
   ]
  },
  {
   "cell_type": "code",
   "execution_count": 19,
   "metadata": {},
   "outputs": [
    {
     "data": {
      "text/plain": [
       "-0.9922778767136677"
      ]
     },
     "execution_count": 19,
     "metadata": {},
     "output_type": "execute_result"
    }
   ],
   "source": [
    "coef_correlation(X,Y)"
   ]
  },
  {
   "cell_type": "markdown",
   "metadata": {},
   "source": [
    "$R$ est proche de -1, donc on a une corrélation négative assez forte entre $X$ et $Y$.   ( si le prix augmente la quantité diminue).\n",
    "Graphiquement, le nuage de points est sous forme d'une courbe décroissante linéaire ce qui confirme la liaison assez forte négativement.\n"
   ]
  },
  {
   "cell_type": "markdown",
   "metadata": {},
   "source": [
    "## B-Utilisation de la méthode linregress"
   ]
  },
  {
   "cell_type": "markdown",
   "metadata": {},
   "source": [
    "On peut utiliser le module librairie SciPy (Scientific Python) pour implémenter une régression linéaire. Le sous package stats propose la fonction linregress qui calcul une régression à partir d'un jeu de donnée d'entrainement"
   ]
  },
  {
   "cell_type": "markdown",
   "metadata": {},
   "source": [
    "1-Ecrire un script Ecrire un script qui calcule les valeur de $\\theta_{0}$, $\\theta_{1}$ en utilisant linregress et les données X et Y de la question précédente"
   ]
  },
  {
   "cell_type": "code",
   "execution_count": null,
   "metadata": {},
   "outputs": [],
   "source": []
  },
  {
   "cell_type": "markdown",
   "metadata": {},
   "source": [
    "2- En utilisant la méthode linregress, calculer les valeur de $\\theta_{0}$, $\\theta_{1}$ pour les données du fichier \"linear_regression_dataset.csv\" (utiliser pondas pour afficher les données)"
   ]
  },
  {
   "cell_type": "code",
   "execution_count": null,
   "metadata": {},
   "outputs": [],
   "source": []
  },
  {
   "cell_type": "code",
   "execution_count": null,
   "metadata": {},
   "outputs": [],
   "source": []
  },
  {
   "cell_type": "markdown",
   "metadata": {},
   "source": [
    "#### Prédiction d'une nouvelle observation\n",
    " Utilisons la fonction de prédiction pour trouver une estimation de  $h_\\theta(x=22.5)$"
   ]
  },
  {
   "cell_type": "code",
   "execution_count": null,
   "metadata": {},
   "outputs": [],
   "source": []
  },
  {
   "cell_type": "markdown",
   "metadata": {},
   "source": [
    "# C-Méthode de la descente\n",
    "\n",
    " Pour minimiser le coût $$ J(\\theta_{0},\\theta_{1})=\\frac{1}{2m}\\sum_{i=0}^{m}(h(x_{i})-y_{i})^{2} = \\frac{1}{2m}\\sum_{i=0}^{m}(\\theta_{0}+ \\theta_{1}x_{i}-y_{i})^{2} $$\n",
    "On utilise la methode de la descente du gradient. Il faut donc calculer la dérivée de $J(\\theta_{0},\\theta_{1})$ par rapport à $\\theta_{0}$ et par rapport à $\\theta_{1}$ nous avons alors:\n",
    "$$ \\frac{\\delta J(\\theta_{0},\\theta_{1})}{\\delta \\theta_{0}}=\\frac{1}{m}\\sum_{i=0}^{m}(\\theta_{0}+ \\theta_{1}x_{i}-y_{i}) $$\n",
    "\n",
    "$$ \\frac{\\delta J(\\theta_{0},\\theta_{1})}{\\delta \\theta_{1}}=\\frac{1}{m}\\sum_{i=0}^{m}(\\theta_{0}+ \\theta_{1}x_{i}-y_{i})x_{i} $$\n",
    "La mise à jour des coeficients sera comme suivant:\n",
    "$$ \\theta_{0}\\leftarrow \\theta_{0}- \\alpha\\frac{\\delta J(\\theta_{0},\\theta_{1})}{\\delta \\theta_{0}}$$\n",
    "$$ \\theta_{1}\\leftarrow \\theta_{1}- \\alpha\\frac{\\delta J(\\theta_{0},\\theta_{1})}{\\delta \\theta_{1}}$$\n",
    "\n",
    "$\\alpha$: learning rate\n",
    "\n",
    "L'algorithme sous forme matricielle est le suivant\n",
    "\n",
    " <img src=\"18.png\" style=\"with:140px;height:260px\"/>"
   ]
  },
  {
   "cell_type": "markdown",
   "metadata": {},
   "source": [
    "## 1-Datasets\n",
    "1-Générer de données aléatoires avec une tendance linéaire avec make_regression: on a un dataset  qui contient 100 exemples, et une seule variable . Note: chaque fois que la cellule est executée, des données différentes sont générer. Utiliser np.random.seed(0) pour reproduire le meme Dataset a chaque fois."
   ]
  },
  {
   "cell_type": "code",
   "execution_count": 21,
   "metadata": {},
   "outputs": [
    {
     "data": {
      "text/plain": [
       "<matplotlib.collections.PathCollection at 0x1f840be5df0>"
      ]
     },
     "execution_count": 21,
     "metadata": {},
     "output_type": "execute_result"
    },
    {
     "data": {
      "image/png": "[encoded data removed]",
      "text/plain": [
       "<Figure size 432x288 with 1 Axes>"
      ]
     },
     "metadata": {
      "needs_background": "light"
     },
     "output_type": "display_data"
    }
   ],
   "source": [
    "import numpy as np\n",
    "from sklearn.datasets import make_regression\n",
    "np.random.seed(0)\n",
    "x,y = make_regression(n_samples=100,n_features=1,noise=10)\n",
    "plt.scatter(x,y)"
   ]
  },
  {
   "cell_type": "markdown",
   "metadata": {},
   "source": [
    "Important: vérifier les dimensions de x et y. On remarque que y n'a pas les dimensions (100, 1). On corrige le probleme avec np.reshape"
   ]
  },
  {
   "cell_type": "code",
   "execution_count": 28,
   "metadata": {},
   "outputs": [
    {
     "name": "stdout",
     "output_type": "stream",
     "text": [
      "(100, 1)\n",
      "(100, 1)\n"
     ]
    }
   ],
   "source": [
    "y = y.reshape(y.shape[0],1)\n",
    "print(x.shape)\n",
    "print(y.shape)"
   ]
  },
  {
   "cell_type": "markdown",
   "metadata": {},
   "source": [
    "2-Créez la matrice X. \n",
    "\n",
    "\n"
   ]
  },
  {
   "cell_type": "code",
   "execution_count": 34,
   "metadata": {},
   "outputs": [
    {
     "data": {
      "text/plain": [
       "array([[-0.35955316,  1.        ],\n",
       "       [ 0.97663904,  1.        ],\n",
       "       [ 0.40234164,  1.        ],\n",
       "       [-0.81314628,  1.        ],\n",
       "       [-0.88778575,  1.        ],\n",
       "       [ 0.44386323,  1.        ],\n",
       "       [-0.97727788,  1.        ],\n",
       "       [ 0.42833187,  1.        ],\n",
       "       [ 0.20827498,  1.        ],\n",
       "       [-0.31155253,  1.        ],\n",
       "       [-0.51080514,  1.        ],\n",
       "       [ 0.12691209,  1.        ],\n",
       "       [-1.53624369,  1.        ],\n",
       "       [-0.40178094,  1.        ],\n",
       "       [ 0.6536186 ,  1.        ],\n",
       "       [ 1.17877957,  1.        ],\n",
       "       [-0.17992484,  1.        ],\n",
       "       [ 1.78587049,  1.        ],\n",
       "       [ 1.45427351,  1.        ],\n",
       "       [-0.68481009,  1.        ],\n",
       "       [ 0.97873798,  1.        ],\n",
       "       [ 1.89588918,  1.        ],\n",
       "       [-0.4380743 ,  1.        ],\n",
       "       [ 0.3130677 ,  1.        ],\n",
       "       [ 0.76103773,  1.        ],\n",
       "       [ 0.77749036,  1.        ],\n",
       "       [ 1.9507754 ,  1.        ],\n",
       "       [ 0.33367433,  1.        ],\n",
       "       [-0.34791215,  1.        ],\n",
       "       [ 1.53277921,  1.        ],\n",
       "       [-0.89546656,  1.        ],\n",
       "       [-0.57884966,  1.        ],\n",
       "       [-1.04855297,  1.        ],\n",
       "       [ 0.37816252,  1.        ],\n",
       "       [ 0.01050002,  1.        ],\n",
       "       [ 0.46278226,  1.        ],\n",
       "       [ 0.14404357,  1.        ],\n",
       "       [-0.40317695,  1.        ],\n",
       "       [ 0.0519454 ,  1.        ],\n",
       "       [-1.25279536,  1.        ],\n",
       "       [ 1.05445173,  1.        ],\n",
       "       [ 0.40015721,  1.        ],\n",
       "       [-1.70627019,  1.        ],\n",
       "       [ 2.2408932 ,  1.        ],\n",
       "       [ 0.17742614,  1.        ],\n",
       "       [-0.20515826,  1.        ],\n",
       "       [ 1.23029068,  1.        ],\n",
       "       [-0.85409574,  1.        ],\n",
       "       [ 1.76405235,  1.        ],\n",
       "       [ 0.4105985 ,  1.        ],\n",
       "       [-0.90729836,  1.        ],\n",
       "       [-1.42001794,  1.        ],\n",
       "       [ 0.46566244,  1.        ],\n",
       "       [ 0.90082649,  1.        ],\n",
       "       [ 1.13940068,  1.        ],\n",
       "       [ 0.40198936,  1.        ],\n",
       "       [ 0.3869025 ,  1.        ],\n",
       "       [-1.7262826 ,  1.        ],\n",
       "       [ 1.46935877,  1.        ],\n",
       "       [-0.18718385,  1.        ],\n",
       "       [-0.87079715,  1.        ],\n",
       "       [ 0.3024719 ,  1.        ],\n",
       "       [ 1.20237985,  1.        ],\n",
       "       [-1.98079647,  1.        ],\n",
       "       [-2.55298982,  1.        ],\n",
       "       [-1.45436567,  1.        ],\n",
       "       [-0.02818223,  1.        ],\n",
       "       [ 0.15494743,  1.        ],\n",
       "       [ 1.22244507,  1.        ],\n",
       "       [ 1.86755799,  1.        ],\n",
       "       [ 2.26975462,  1.        ],\n",
       "       [-0.74216502,  1.        ],\n",
       "       [ 0.06651722,  1.        ],\n",
       "       [ 1.49407907,  1.        ],\n",
       "       [-0.67246045,  1.        ],\n",
       "       [-1.63019835,  1.        ],\n",
       "       [ 0.12898291,  1.        ],\n",
       "       [ 0.95008842,  1.        ],\n",
       "       [ 1.48825219,  1.        ],\n",
       "       [ 0.05616534,  1.        ],\n",
       "       [ 0.8644362 ,  1.        ],\n",
       "       [ 0.70657317,  1.        ],\n",
       "       [-0.15135721,  1.        ],\n",
       "       [-1.07075262,  1.        ],\n",
       "       [-0.10321885,  1.        ],\n",
       "       [-0.30230275,  1.        ],\n",
       "       [-0.38732682,  1.        ],\n",
       "       [ 0.72909056,  1.        ],\n",
       "       [ 0.12167502,  1.        ],\n",
       "       [-0.50965218,  1.        ],\n",
       "       [-1.23482582,  1.        ],\n",
       "       [-0.21274028,  1.        ],\n",
       "       [-0.63432209,  1.        ],\n",
       "       [ 0.15634897,  1.        ],\n",
       "       [ 0.04575852,  1.        ],\n",
       "       [-1.16514984,  1.        ],\n",
       "       [-0.36274117,  1.        ],\n",
       "       [ 0.3563664 ,  1.        ],\n",
       "       [-1.61389785,  1.        ],\n",
       "       [-1.18063218,  1.        ]])"
      ]
     },
     "execution_count": 34,
     "metadata": {},
     "output_type": "execute_result"
    }
   ],
   "source": [
    "X = np.hstack((x,np.ones(x.shape)))\n",
    "X"
   ]
  },
  {
   "cell_type": "markdown",
   "metadata": {},
   "source": [
    "3-Créez le vecteur $\\theta$ (initialisé avec des coefficients aléatoires)."
   ]
  },
  {
   "cell_type": "code",
   "execution_count": 37,
   "metadata": {},
   "outputs": [
    {
     "data": {
      "text/plain": [
       "array([[1.76405235],\n",
       "       [0.40015721]])"
      ]
     },
     "execution_count": 37,
     "metadata": {},
     "output_type": "execute_result"
    }
   ],
   "source": [
    "np.random.seed(0)\n",
    "theta = np.random.randn(2,1)\n",
    "theta"
   ]
  },
  {
   "cell_type": "markdown",
   "metadata": {},
   "source": [
    "# 2- Modele Linéaire de prédiction \n",
    "Implémenter le modèle de prédiction $ H_\\theta=X.\\theta$"
   ]
  },
  {
   "cell_type": "code",
   "execution_count": 38,
   "metadata": {},
   "outputs": [],
   "source": [
    "def model(x,theta):\n",
    "    return x.dot(theta)"
   ]
  },
  {
   "cell_type": "code",
   "execution_count": 40,
   "metadata": {},
   "outputs": [
    {
     "data": {
      "text/plain": [
       "[<matplotlib.lines.Line2D at 0x1f840cdf070>,\n",
       " <matplotlib.lines.Line2D at 0x1f840cdf130>]"
      ]
     },
     "execution_count": 40,
     "metadata": {},
     "output_type": "execute_result"
    },
    {
     "data": {
      "image/png": "[encoded data removed]",
      "text/plain": [
       "<Figure size 432x288 with 1 Axes>"
      ]
     },
     "metadata": {
      "needs_background": "light"
     },
     "output_type": "display_data"
    }
   ],
   "source": [
    "plt.scatter(x,y)\n",
    "plt.plot(X,model(X,theta),c='red')"
   ]
  },
  {
   "cell_type": "markdown",
   "metadata": {},
   "source": [
    "# 3- Fonction Cout \n",
    "Ecrire un script qui définit la fonction cout $$ J(\\theta)=\\frac{1}{2m}\\sum(X.\\theta-Y)^{2}$$"
   ]
  },
  {
   "cell_type": "code",
   "execution_count": 41,
   "metadata": {},
   "outputs": [],
   "source": [
    "def cost_function(X,y,theta):\n",
    "    m = len(y)\n",
    "    return 1/(2*m) * np.sum((model(X,theta)-y)**2)"
   ]
  },
  {
   "cell_type": "code",
   "execution_count": 42,
   "metadata": {},
   "outputs": [
    {
     "data": {
      "text/plain": [
       "905.6306841935502"
      ]
     },
     "execution_count": 42,
     "metadata": {},
     "output_type": "execute_result"
    }
   ],
   "source": [
    "cost_function(X,y,theta)"
   ]
  },
  {
   "cell_type": "markdown",
   "metadata": {},
   "source": [
    "# 4- Gradients et Descente de Gradient \n",
    "1-Ecrire un script qui définit la fonction du gradiant $$ \\frac{\\delta J(\\theta)}{\\delta \\theta}=\\frac{1}{m}X^T.(X.\\theta-y)$$\n",
    " "
   ]
  },
  {
   "cell_type": "code",
   "execution_count": 44,
   "metadata": {},
   "outputs": [
    {
     "data": {
      "text/plain": [
       "array([[-41.57549288],\n",
       "       [ -1.22914004]])"
      ]
     },
     "execution_count": 44,
     "metadata": {},
     "output_type": "execute_result"
    }
   ],
   "source": [
    "def grad(X,y,theta):\n",
    "    m = len(y)\n",
    "    return 1 /m * X.T.dot(model(X,theta)-y)\n"
   ]
  },
  {
   "cell_type": "markdown",
   "metadata": {},
   "source": [
    "2-Implementer la descente de gradient en utilisant de gradiant:\n",
    "$$ \\theta\\leftarrow \\theta- \\alpha\\frac{\\delta J(\\theta)}{\\delta \\theta}$$"
   ]
  },
  {
   "cell_type": "code",
   "execution_count": 45,
   "metadata": {},
   "outputs": [],
   "source": [
    "def gradient_descent(X,y,theta,learning_rate,n_iterations):\n",
    "    cost_history = np.zeros(n_iterations)\n",
    "    for i in range(0,n_iterations):\n",
    "        theta = theta - learning_rate * grad(X,y,theta)\n",
    "        cost_history[i] = cost_function(X,y,theta)\n",
    "    return theta , cost_history\n",
    "    "
   ]
  },
  {
   "cell_type": "markdown",
   "metadata": {},
   "source": [
    "# 5-Calcul des parametres $\\theta_1$ et  $\\theta_0$\n",
    "  1-On définit un nombre d'itérations de $1000$ , ainsi $\\alpha=0.01$,calculer $\\theta_1$ et  $\\theta_0$\n",
    " \n",
    " "
   ]
  },
  {
   "cell_type": "code",
   "execution_count": 71,
   "metadata": {},
   "outputs": [
    {
     "data": {
      "text/plain": [
       "array([[42.61765864],\n",
       "       [-0.81309274]])"
      ]
     },
     "execution_count": 71,
     "metadata": {},
     "output_type": "execute_result"
    }
   ],
   "source": [
    "theta_final , cost_history=gradient_descent(X,y,theta,learning_rate=0.01,n_iterations=1000)\n",
    "theta_final"
   ]
  },
  {
   "cell_type": "markdown",
   "metadata": {},
   "source": [
    "2-Créer d'un vecteur prédictions qui contient les prédictions de notre modele final"
   ]
  },
  {
   "cell_type": "code",
   "execution_count": 67,
   "metadata": {},
   "outputs": [
    {
     "data": {
      "text/plain": [
       "array([[ -16.13813273],\n",
       "       [  40.80961751],\n",
       "       [  16.3333897 ],\n",
       "       [ -35.47001311],\n",
       "       [ -38.65110461],\n",
       "       [  18.10301628],\n",
       "       [ -42.4652083 ],\n",
       "       [  17.44107847],\n",
       "       [   8.06237908],\n",
       "       [ -14.09237325],\n",
       "       [ -22.58440578],\n",
       "       [   4.59473926],\n",
       "       [ -66.28801252],\n",
       "       [ -17.93785643],\n",
       "       [  27.04267034],\n",
       "       [  49.42473193],\n",
       "       [  -8.48247582],\n",
       "       [  75.2986012 ],\n",
       "       [  61.16612653],\n",
       "       [ -30.00039776],\n",
       "       [  40.89907346],\n",
       "       [  79.98753475],\n",
       "       [ -19.48465899],\n",
       "       [  12.52858526],\n",
       "       [  31.62081245],\n",
       "       [  32.3220142 ],\n",
       "       [  82.32675414],\n",
       "       [  13.40682791],\n",
       "       [ -15.64199942],\n",
       "       [  64.51199505],\n",
       "       [ -38.97845651],\n",
       "       [ -25.48442476],\n",
       "       [ -45.50291183],\n",
       "       [  15.30288932],\n",
       "       [  -0.36667693],\n",
       "       [  18.90933425],\n",
       "       [   5.32487311],\n",
       "       [ -17.99735361],\n",
       "       [   1.39970135],\n",
       "       [ -54.20760634],\n",
       "       [  44.12595004],\n",
       "       [  16.24029042],\n",
       "       [ -73.53444527],\n",
       "       [  94.69140967],\n",
       "       [   6.74761927],\n",
       "       [  -9.55791015],\n",
       "       [  51.62010608],\n",
       "       [ -37.21525565],\n",
       "       [  74.36872416],\n",
       "       [  16.6852924 ],\n",
       "       [ -39.48272122],\n",
       "       [ -61.33453731],\n",
       "       [  19.03208606],\n",
       "       [  37.57852984],\n",
       "       [  47.74642622],\n",
       "       [  16.31837583],\n",
       "       [  15.67538221],\n",
       "       [ -74.38736286],\n",
       "       [  61.80905184],\n",
       "       [  -8.79185087],\n",
       "       [ -37.92706022],\n",
       "       [  12.07699813],\n",
       "       [  50.43056232],\n",
       "       [ -85.23459883],\n",
       "       [-109.62115332],\n",
       "       [ -62.79841831],\n",
       "       [  -2.01529234],\n",
       "       [   5.78958918],\n",
       "       [  51.28573064],\n",
       "       [  78.78007575],\n",
       "       [  95.92146715],\n",
       "       [ -32.44483218],\n",
       "       [   2.0207443 ],\n",
       "       [  62.86261708],\n",
       "       [ -29.474063  ],\n",
       "       [ -70.29230664],\n",
       "       [   4.68299635],\n",
       "       [  39.67804525],\n",
       "       [  62.6142788 ],\n",
       "       [   1.57955306],\n",
       "       [  36.02759649],\n",
       "       [  29.29956406],\n",
       "       [  -7.26493982],\n",
       "       [ -46.44904854],\n",
       "       [  -5.21331049],\n",
       "       [ -13.69815283],\n",
       "       [ -17.32183012],\n",
       "       [  30.25924256],\n",
       "       [   4.37153806],\n",
       "       [ -22.53526746],\n",
       "       [ -53.4417548 ],\n",
       "       [  -9.88105137],\n",
       "       [ -27.84862808],\n",
       "       [   5.84932216],\n",
       "       [   1.13602011],\n",
       "       [ -50.47220425],\n",
       "       [ -16.27400366],\n",
       "       [  14.373951  ],\n",
       "       [ -69.59758864],\n",
       "       [ -51.1320529 ]])"
      ]
     },
     "execution_count": 67,
     "metadata": {},
     "output_type": "execute_result"
    }
   ],
   "source": [
    "predictions = model(X,theta_final)\n",
    "predictions"
   ]
  },
  {
   "cell_type": "markdown",
   "metadata": {},
   "source": [
    "3-Afficher les résultats de prédictions par rapport a notre Dataset"
   ]
  },
  {
   "cell_type": "code",
   "execution_count": 68,
   "metadata": {},
   "outputs": [
    {
     "data": {
      "text/plain": [
       "[<matplotlib.lines.Line2D at 0x1f84226c0d0>]"
      ]
     },
     "execution_count": 68,
     "metadata": {},
     "output_type": "execute_result"
    },
    {
     "data": {
      "image/png": "[encoded data removed]",
      "text/plain": [
       "<Figure size 432x288 with 1 Axes>"
      ]
     },
     "metadata": {
      "needs_background": "light"
     },
     "output_type": "display_data"
    }
   ],
   "source": [
    "plt.scatter(x,y)\n",
    "plt.plot(x,predictions,c='red')"
   ]
  },
  {
   "cell_type": "markdown",
   "metadata": {},
   "source": [
    " # 5. Courbes d'apprentissage\n",
    " vérifier si notre algorithme de Descente de gradient a bien fonctionné, on observe l'évolution de la fonction cout a travers les itérations. On est sensé obtenir une courbe qui diminue a chaque itération jusqu'a stagner a un niveau minimal (proche de zéro). Si la courbe ne suit pas ce motif, alors le pas learning_rate est peut-etre trop élevé, il faut prendre un pas plus faible."
   ]
  },
  {
   "cell_type": "code",
   "execution_count": 69,
   "metadata": {},
   "outputs": [
    {
     "data": {
      "text/plain": [
       "[<matplotlib.lines.Line2D at 0x1f8422c2730>]"
      ]
     },
     "execution_count": 69,
     "metadata": {},
     "output_type": "execute_result"
    },
    {
     "data": {
      "image/png": "[encoded data removed]",
      "text/plain": [
       "<Figure size 432x288 with 1 Axes>"
      ]
     },
     "metadata": {
      "needs_background": "light"
     },
     "output_type": "display_data"
    }
   ],
   "source": [
    "plt.plot(range(1000),cost_history)"
   ]
  },
  {
   "cell_type": "markdown",
   "metadata": {},
   "source": [
    "# 7-Evaluation finale\n",
    "Utiliser le coefficient de détermination pour évaluer la réelle performance. "
   ]
  },
  {
   "cell_type": "code",
   "execution_count": 70,
   "metadata": {},
   "outputs": [
    {
     "data": {
      "text/plain": [
       "0.9417294727711081"
      ]
     },
     "execution_count": 70,
     "metadata": {},
     "output_type": "execute_result"
    }
   ],
   "source": [
    "coef_determination(y, predictions)"
   ]
  },
  {
   "cell_type": "markdown",
   "metadata": {},
   "source": [
    "Plus le résultat est proche de 1, meilleur est votre modele"
   ]
  },
  {
   "cell_type": "code",
   "execution_count": null,
   "metadata": {},
   "outputs": [],
   "source": []
  }
 ],
 "metadata": {
  "kernelspec": {
   "display_name": "Python 3 (ipykernel)",
   "language": "python",
   "name": "python3"
  },
  "language_info": {
   "codemirror_mode": {
    "name": "ipython",
    "version": 3
   },
   "file_extension": ".py",
   "mimetype": "text/x-python",
   "name": "python",
   "nbconvert_exporter": "python",
   "pygments_lexer": "ipython3",
   "version": "3.9.7"
  }
 },
 "nbformat": 4,
 "nbformat_minor": 4
}
