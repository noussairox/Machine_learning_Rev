{
 "cells": [
  {
   "cell_type": "code",
   "execution_count": 115,
   "id": "20c03b15",
   "metadata": {},
   "outputs": [],
   "source": [
    "import numpy as np \n",
    "from sklearn.datasets import make_regression\n",
    "import matplotlib.pyplot as plt\n"
   ]
  },
  {
   "cell_type": "markdown",
   "id": "67f1516b",
   "metadata": {},
   "source": [
    "# 1-Dataset"
   ]
  },
  {
   "cell_type": "code",
   "execution_count": 116,
   "id": "c7893f66",
   "metadata": {},
   "outputs": [
    {
     "data": {
      "text/plain": [
       "<matplotlib.collections.PathCollection at 0x19a839b1550>"
      ]
     },
     "execution_count": 116,
     "metadata": {},
     "output_type": "execute_result"
    },
    {
     "data": {
      "image/png": "[encoded data removed]",
      "text/plain": [
       "<Figure size 432x288 with 1 Axes>"
      ]
     },
     "metadata": {
      "needs_background": "light"
     },
     "output_type": "display_data"
    }
   ],
   "source": [
    "x,y = make_regression(n_samples=100, n_features=1,noise=10)\n",
    "plt.scatter(x,y) \n"
   ]
  },
  {
   "cell_type": "code",
   "execution_count": 117,
   "id": "faf5bcb8",
   "metadata": {},
   "outputs": [
    {
     "name": "stdout",
     "output_type": "stream",
     "text": [
      "(100, 1)\n",
      "(100, 1)\n"
     ]
    }
   ],
   "source": [
    "print(x.shape)\n",
    "y = y.reshape(y.shape[0 ],1)\n",
    "print(y.shape)"
   ]
  },
  {
   "cell_type": "code",
   "execution_count": 118,
   "id": "10c9541c",
   "metadata": {},
   "outputs": [
    {
     "data": {
      "text/plain": [
       "array([[ 0.53516535,  1.        ],\n",
       "       [ 0.2387653 ,  1.        ],\n",
       "       [ 0.30155815,  1.        ],\n",
       "       [-0.33568269,  1.        ],\n",
       "       [ 1.9090109 ,  1.        ],\n",
       "       [-0.83824036,  1.        ],\n",
       "       [-0.7895556 ,  1.        ],\n",
       "       [ 0.63895901,  1.        ],\n",
       "       [ 0.64852326,  1.        ],\n",
       "       [ 0.22411226,  1.        ],\n",
       "       [-0.59569402,  1.        ],\n",
       "       [ 0.65526231,  1.        ],\n",
       "       [ 0.46092628,  1.        ],\n",
       "       [-1.52588752,  1.        ],\n",
       "       [ 0.98780852,  1.        ],\n",
       "       [-0.9341115 ,  1.        ],\n",
       "       [ 0.53962306,  1.        ],\n",
       "       [-0.0691863 ,  1.        ],\n",
       "       [-0.71718243,  1.        ],\n",
       "       [ 1.07304806,  1.        ],\n",
       "       [-0.13511475,  1.        ],\n",
       "       [-1.0605528 ,  1.        ],\n",
       "       [ 0.47496418,  1.        ],\n",
       "       [-0.6148033 ,  1.        ],\n",
       "       [ 0.67608165,  1.        ],\n",
       "       [ 1.65242362,  1.        ],\n",
       "       [-0.39855254,  1.        ],\n",
       "       [ 0.4120335 ,  1.        ],\n",
       "       [-0.5037732 ,  1.        ],\n",
       "       [ 0.37393346,  1.        ],\n",
       "       [ 0.08080782,  1.        ],\n",
       "       [ 0.09446287,  1.        ],\n",
       "       [-2.30591129,  1.        ],\n",
       "       [-0.35976797,  1.        ],\n",
       "       [-1.91057474,  1.        ],\n",
       "       [-0.94543792,  1.        ],\n",
       "       [ 0.22722601,  1.        ],\n",
       "       [-0.10172188,  1.        ],\n",
       "       [ 1.42351958,  1.        ],\n",
       "       [ 1.26395093,  1.        ],\n",
       "       [-0.44968269,  1.        ],\n",
       "       [-0.2599884 ,  1.        ],\n",
       "       [ 0.34491002,  1.        ],\n",
       "       [-0.33267958,  1.        ],\n",
       "       [ 1.49174491,  1.        ],\n",
       "       [-1.95034507,  1.        ],\n",
       "       [ 1.68070508,  1.        ],\n",
       "       [-0.70200182,  1.        ],\n",
       "       [ 1.53664796,  1.        ],\n",
       "       [-0.27535736,  1.        ],\n",
       "       [-0.70949395,  1.        ],\n",
       "       [-0.75058884,  1.        ],\n",
       "       [-0.60869019,  1.        ],\n",
       "       [-0.31778617,  1.        ],\n",
       "       [-0.4376123 ,  1.        ],\n",
       "       [ 0.08909769,  1.        ],\n",
       "       [ 0.09982155,  1.        ],\n",
       "       [-0.8689381 ,  1.        ],\n",
       "       [-1.65384645,  1.        ],\n",
       "       [ 0.3176452 ,  1.        ],\n",
       "       [-0.73586561,  1.        ],\n",
       "       [ 1.78783054,  1.        ],\n",
       "       [-1.16142088,  1.        ],\n",
       "       [-0.47821413,  1.        ],\n",
       "       [-0.16885323,  1.        ],\n",
       "       [ 0.51521822,  1.        ],\n",
       "       [-1.3645285 ,  1.        ],\n",
       "       [ 0.08302827,  1.        ],\n",
       "       [ 1.01830651,  1.        ],\n",
       "       [-0.38692775,  1.        ],\n",
       "       [ 0.5859292 ,  1.        ],\n",
       "       [-1.25516821,  1.        ],\n",
       "       [ 0.43404891,  1.        ],\n",
       "       [ 1.2903902 ,  1.        ],\n",
       "       [ 0.71378157,  1.        ],\n",
       "       [-0.43891036,  1.        ],\n",
       "       [ 1.55910451,  1.        ],\n",
       "       [ 0.95169503,  1.        ],\n",
       "       [ 0.91089462,  1.        ],\n",
       "       [ 0.73602507,  1.        ],\n",
       "       [-0.42546697,  1.        ],\n",
       "       [-0.10846557,  1.        ],\n",
       "       [-0.536787  ,  1.        ],\n",
       "       [ 1.30827069,  1.        ],\n",
       "       [-1.59185518,  1.        ],\n",
       "       [ 1.95054994,  1.        ],\n",
       "       [-0.74443418,  1.        ],\n",
       "       [ 0.57082498,  1.        ],\n",
       "       [ 1.05087363,  1.        ],\n",
       "       [ 1.83467849,  1.        ],\n",
       "       [ 0.86210095,  1.        ],\n",
       "       [-0.52041576,  1.        ],\n",
       "       [ 0.96931325,  1.        ],\n",
       "       [ 0.26960458,  1.        ],\n",
       "       [-1.60459493,  1.        ],\n",
       "       [ 0.51514075,  1.        ],\n",
       "       [ 0.56507972,  1.        ],\n",
       "       [ 1.80433654,  1.        ],\n",
       "       [ 1.7645643 ,  1.        ],\n",
       "       [-0.5217792 ,  1.        ]])"
      ]
     },
     "execution_count": 118,
     "metadata": {},
     "output_type": "execute_result"
    }
   ],
   "source": [
    " #matrice X\n",
    "X = np.hstack((x,np.ones(x.shape))) #collez deux vecteur \n",
    "X"
   ]
  },
  {
   "cell_type": "code",
   "execution_count": 119,
   "id": "3e5dd3e4",
   "metadata": {},
   "outputs": [],
   "source": [
    "theta = np.random.randn(2,1)"
   ]
  },
  {
   "cell_type": "code",
   "execution_count": 120,
   "id": "f3ef5de5",
   "metadata": {},
   "outputs": [
    {
     "data": {
      "text/plain": [
       "array([[-0.0555145 ],\n",
       "       [ 1.30587795]])"
      ]
     },
     "execution_count": 120,
     "metadata": {},
     "output_type": "execute_result"
    }
   ],
   "source": [
    "theta"
   ]
  },
  {
   "cell_type": "markdown",
   "id": "681d6245",
   "metadata": {},
   "source": [
    "# Model"
   ]
  },
  {
   "cell_type": "code",
   "execution_count": 121,
   "id": "bd974a54",
   "metadata": {},
   "outputs": [],
   "source": [
    "def model(X,theta):\n",
    "    return X.dot(theta)"
   ]
  },
  {
   "cell_type": "code",
   "execution_count": 122,
   "id": "1dd85842",
   "metadata": {},
   "outputs": [
    {
     "data": {
      "text/plain": [
       "[<matplotlib.lines.Line2D at 0x19a83a1ca60>]"
      ]
     },
     "execution_count": 122,
     "metadata": {},
     "output_type": "execute_result"
    },
    {
     "data": {
      "image/png": "[encoded data removed]",
      "text/plain": [
       "<Figure size 432x288 with 1 Axes>"
      ]
     },
     "metadata": {
      "needs_background": "light"
     },
     "output_type": "display_data"
    }
   ],
   "source": [
    "plt.scatter(x,y)\n",
    "plt.plot(x,model(X,theta),c='r')"
   ]
  },
  {
   "cell_type": "markdown",
   "id": "3534890b",
   "metadata": {},
   "source": [
    "# fonction cout"
   ]
  },
  {
   "cell_type": "code",
   "execution_count": 123,
   "id": "06a819b5",
   "metadata": {},
   "outputs": [],
   "source": [
    "def cost_function(X,y,theta):\n",
    "    m = len(y)\n",
    "    return 1/(2*m) * np.sum((model(X,theta)-y)**2)"
   ]
  },
  {
   "cell_type": "code",
   "execution_count": 124,
   "id": "29276554",
   "metadata": {},
   "outputs": [
    {
     "data": {
      "text/plain": [
       "1145.9972914001366"
      ]
     },
     "execution_count": 124,
     "metadata": {},
     "output_type": "execute_result"
    }
   ],
   "source": [
    "cost_function(X,y,theta)"
   ]
  },
  {
   "cell_type": "markdown",
   "id": "38faf6f4",
   "metadata": {},
   "source": [
    "#  Gradients et descente de gradient"
   ]
  },
  {
   "cell_type": "code",
   "execution_count": 125,
   "id": "a2d3e892",
   "metadata": {},
   "outputs": [],
   "source": [
    "def grad(X,y,theta):\n",
    "    m = len(y)\n",
    "    return 1/m * X.T.dot(model(X,theta)-y)"
   ]
  },
  {
   "cell_type": "code",
   "execution_count": 126,
   "id": "205f028b",
   "metadata": {},
   "outputs": [],
   "source": [
    "def gradient_descent(X,y,theta,learning_rate,n_iterations):\n",
    "    cost_history = np.zeros(n_iterations)\n",
    "    for i in range (0,n_iterations):\n",
    "        theta = theta - learning_rate * grad(X,y,theta)\n",
    "        cost_history[i] = cost_function(X,y,theta)\n",
    "    return theta , cost_history"
   ]
  },
  {
   "cell_type": "markdown",
   "id": "c75b8a0b",
   "metadata": {},
   "source": [
    "#Machine Learning "
   ]
  },
  {
   "cell_type": "code",
   "execution_count": 134,
   "id": "dbdff0c1",
   "metadata": {},
   "outputs": [],
   "source": [
    "theta_final , cost_history = gradient_descent(X,y,theta,learning_rate=0.01,n_iterations=1000)"
   ]
  },
  {
   "cell_type": "code",
   "execution_count": 135,
   "id": "1871d125",
   "metadata": {},
   "outputs": [
    {
     "data": {
      "text/plain": [
       "array([[48.13237973],\n",
       "       [ 1.02403277]])"
      ]
     },
     "execution_count": 135,
     "metadata": {},
     "output_type": "execute_result"
    }
   ],
   "source": [
    "theta_final"
   ]
  },
  {
   "cell_type": "code",
   "execution_count": 136,
   "id": "35a899b4",
   "metadata": {},
   "outputs": [
    {
     "data": {
      "text/plain": [
       "[<matplotlib.lines.Line2D at 0x19a83bb0460>]"
      ]
     },
     "execution_count": 136,
     "metadata": {},
     "output_type": "execute_result"
    },
    {
     "data": {
      "image/png": "[encoded data removed]",
      "text/plain": [
       "<Figure size 432x288 with 1 Axes>"
      ]
     },
     "metadata": {
      "needs_background": "light"
     },
     "output_type": "display_data"
    }
   ],
   "source": [
    "prediction = model(X,theta_final)\n",
    "plt.scatter(x,y)\n",
    "plt.plot(x, prediction,c='r')"
   ]
  },
  {
   "cell_type": "code",
   "execution_count": 137,
   "id": "d5071960",
   "metadata": {},
   "outputs": [
    {
     "data": {
      "text/plain": [
       "[<matplotlib.lines.Line2D at 0x19a84bd4be0>]"
      ]
     },
     "execution_count": 137,
     "metadata": {},
     "output_type": "execute_result"
    },
    {
     "data": {
      "image/png": "[encoded data removed]",
      "text/plain": [
       "<Figure size 432x288 with 1 Axes>"
      ]
     },
     "metadata": {
      "needs_background": "light"
     },
     "output_type": "display_data"
    }
   ],
   "source": [
    "plt.plot(range(1000),cost_history)"
   ]
  },
  {
   "cell_type": "markdown",
   "id": "a2f0ee75",
   "metadata": {},
   "source": [
    "# coefficient de determination"
   ]
  },
  {
   "cell_type": "code",
   "execution_count": 138,
   "id": "3d38e97b",
   "metadata": {},
   "outputs": [],
   "source": [
    "#Plus proche de 1 il rentre dans le nuage de points\n",
    "def coef_determination(y,pred):\n",
    "    u = ((y-pred)**2).sum()\n",
    "    v = ((y -y.mean())**2).sum()\n",
    "    return 1-u/v"
   ]
  },
  {
   "cell_type": "code",
   "execution_count": 139,
   "id": "12386cba",
   "metadata": {},
   "outputs": [
    {
     "data": {
      "text/plain": [
       "0.9516382777749014"
      ]
     },
     "execution_count": 139,
     "metadata": {},
     "output_type": "execute_result"
    }
   ],
   "source": [
    "coef_determination(y,prediction)\n"
   ]
  },
  {
   "cell_type": "code",
   "execution_count": null,
   "id": "966f7a90",
   "metadata": {},
   "outputs": [],
   "source": []
  },
  {
   "cell_type": "code",
   "execution_count": null,
   "id": "e0c486ce",
   "metadata": {},
   "outputs": [],
   "source": []
  },
  {
   "cell_type": "code",
   "execution_count": null,
   "id": "5576634b",
   "metadata": {},
   "outputs": [],
   "source": []
  }
 ],
 "metadata": {
  "kernelspec": {
   "display_name": "Python 3 (ipykernel)",
   "language": "python",
   "name": "python3"
  },
  "language_info": {
   "codemirror_mode": {
    "name": "ipython",
    "version": 3
   },
   "file_extension": ".py",
   "mimetype": "text/x-python",
   "name": "python",
   "nbconvert_exporter": "python",
   "pygments_lexer": "ipython3",
   "version": "3.9.7"
  }
 },
 "nbformat": 4,
 "nbformat_minor": 5
}
