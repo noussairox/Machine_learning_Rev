{
 "cells": [
  {
   "cell_type": "markdown",
   "metadata": {},
   "source": [
    "# TP4: Les K plus proches voisins (KNN : k nearest neighbors)\n",
    " \n",
    "Le KNN est un algorithme de classification supervisé. Pour chaque entrée $x_{i}=(x^{1}_{i}, x^{1}_{i}, x^{2}_{i}, ... x^{n}_{i}) $ il faut disposer de la sortie $y_{i}$ correspondante (la classe correspondante)\n",
    "\n",
    "Pour savoir à quelle classe $y_{i}$ un vecteur x apartient il faut:\n",
    "- Calculer la distance (euclidienne) du vecteur x à tous les examples $x_{i}$\n",
    "- trouver les k exemple les plus proche de x\n",
    "- x appartient à la classe majoritairement representé par ces k éléments \n",
    "\n",
    "## I-Classe Binaire\n",
    "\n",
    "### 1. Recuperation des données\n",
    "\n",
    "Les données sont stocker dans le fichier Titanic.csv qui contient des données des passagers du Titanic. Chaque ligne représente une personne. Les colonnes décrivent différents attributs de la personne, notamment si elle a survécu, son âge, sa classe de passagers, son sexe...\n",
    "\n",
    "1-Utiliser sns.load_dataset('titanic') de la librairie seaborn pour éecuperer les données de ce fichier \n",
    "\n",
    "2-Afficher les 10 premiere ligne de ce dataframe\n"
   ]
  },
  {
   "cell_type": "code",
   "execution_count": null,
   "metadata": {},
   "outputs": [],
   "source": []
  },
  {
   "cell_type": "markdown",
   "metadata": {},
   "source": [
    "### 2- Entrainement et test du modèle\n",
    "Dans un premier lieux, nous allons utiliser comme critères de classifiction suivants:\n",
    "\"age\": l'age passager\n",
    "\"sex\": le sexe du passager\n",
    "\"pclass\": classe de voyage(classe1,classe2,classe3)\n",
    "\n",
    "1- Transformer la variable qualitatif \"sex\" en variable numérique( male=0,female=1)\n",
    "\n",
    "2-Construiser X et Y \n",
    "\n",
    "X: les trois colonne \"pclass\",\"age\" et \"sex\"\n",
    "\n",
    "y: \"survived\"\n",
    "\n",
    "3- Créer un objet **KNeighborsClassifier** du module **sklearn.neighbors** pour entrainer le model à l'aide la méthode **fit()** du même objet.\n",
    "\n",
    "4- Utiliser la méthode **score(X,y)** et  **Confusion Matrix**  pour évaluer le modèle pour k=1,3,5,7,9,11 et interpréter le résultat.\n"
   ]
  },
  {
   "cell_type": "code",
   "execution_count": null,
   "metadata": {},
   "outputs": [],
   "source": []
  },
  {
   "cell_type": "code",
   "execution_count": null,
   "metadata": {},
   "outputs": [],
   "source": []
  },
  {
   "cell_type": "code",
   "execution_count": null,
   "metadata": {},
   "outputs": [],
   "source": []
  },
  {
   "cell_type": "markdown",
   "metadata": {},
   "source": [
    "### 3- prediction\n",
    "Voici des information de trois passagers:\n",
    "\n",
    "passager1:  {\"pclass\": 1, \"sex\":1 , \"age\": 20}\n",
    "\n",
    "passager2:  {\"pclass\": 2, \"sex\":1 , \"age\": 7}\n",
    "\n",
    "passager3:  {\"pclass\": 3, \"sex\": 0, \"age\": 35}\n",
    "\n",
    "1- Créer un DataFrame à partir de ce données\n",
    "\n",
    "2- Lequel des passagers vont etre par les survivant?"
   ]
  },
  {
   "cell_type": "code",
   "execution_count": null,
   "metadata": {},
   "outputs": [],
   "source": [
    "\n"
   ]
  },
  {
   "cell_type": "markdown",
   "metadata": {},
   "source": [
    "## II-Multiple Classes"
   ]
  },
  {
   "cell_type": "markdown",
   "metadata": {},
   "source": [
    "#### ***Q1***-utilisez la fonction ***make_blobs(n_samples,centers, cluster_std,random_state)*** du module ***sklearn.datasets*** pour generer trois classes puis visualiser ces trois classe comme suivants:\n",
    "*   rouge: y=0\n",
    "*   blue: y=1\n",
    "*   vert: y=2\n",
    "*   Orange: y=3\n",
    "\n",
    "l'argument ***cluster_std*** affecte le chevauchement entre les classe\n",
    "<img src=\"KNN.png\" style=\"with:150px;height:280px\"/>"
   ]
  },
  {
   "cell_type": "code",
   "execution_count": null,
   "metadata": {},
   "outputs": [],
   "source": []
  },
  {
   "cell_type": "markdown",
   "metadata": {},
   "source": [
    "#### ***Q2***  Ecrire un script pour predire la classe de x avec l'algorithme du kNN  et évaluer le modèle pour k=1,3,5,7,9,11 et interpréter le résultat.\n"
   ]
  },
  {
   "cell_type": "code",
   "execution_count": null,
   "metadata": {},
   "outputs": [],
   "source": []
  },
  {
   "cell_type": "markdown",
   "metadata": {},
   "source": [
    "#### Q3. A quelle classe apartient les trois points suivants: x1=(-2,8); x2(2,6) ;x3=(0,2) et x4=(4,2) "
   ]
  },
  {
   "cell_type": "code",
   "execution_count": null,
   "metadata": {},
   "outputs": [],
   "source": []
  },
  {
   "cell_type": "code",
   "execution_count": null,
   "metadata": {},
   "outputs": [],
   "source": []
  },
  {
   "cell_type": "code",
   "execution_count": null,
   "metadata": {},
   "outputs": [],
   "source": []
  }
 ],
 "metadata": {
  "kernelspec": {
   "display_name": "Python 3 (ipykernel)",
   "language": "python",
   "name": "python3"
  },
  "language_info": {
   "codemirror_mode": {
    "name": "ipython",
    "version": 3
   },
   "file_extension": ".py",
   "mimetype": "text/x-python",
   "name": "python",
   "nbconvert_exporter": "python",
   "pygments_lexer": "ipython3",
   "version": "3.9.7"
  }
 },
 "nbformat": 4,
 "nbformat_minor": 4
}
