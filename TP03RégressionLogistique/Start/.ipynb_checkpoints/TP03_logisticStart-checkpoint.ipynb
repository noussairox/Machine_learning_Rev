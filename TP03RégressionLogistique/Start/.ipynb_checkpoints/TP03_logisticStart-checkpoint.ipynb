{
 "cells": [
  {
   "cell_type": "markdown",
   "metadata": {},
   "source": [
    "#    TP03: Régression logistique\n",
    "\n",
    " La ***régression logistique*** est une autre technique supervisé utilisé en machine learning. C'est la méthode de classification pour les problèmes avec deux classes(0/1).\n",
    " \n",
    " ## I-Algorithm du Gradient de descent\n",
    " \n",
    " -***Hypothèses***: $h_\\theta(x)= \\frac{1}{1+\\exp(-\\theta^Tx)}$\n",
    " \n",
    " $h_\\theta(x)> 0,5 $  quand la classe (étiquette) vaut $Y=1$.\n",
    "    \n",
    "$h_\\theta(x) < 0,5$  quand la classe (étiquette) vaut $Y=0$.\n",
    " \n",
    " ***Paramètres du model***: $\\theta$ avec $m$ examples, $n $ variables\n",
    " \n",
    "***Fonction du coût***:$J(\\theta)=-\\frac{1}{m}\\sum_{i=0}^{m} y(i)\\log(h_\\theta(x(i)))+(1-y(i)) \\log(1-h_\\theta(x(i))$\n",
    " \n",
    "***Objectif***: Trouver les meilleurs paramètres $\\theta$  revient à minimiser  la fonction du coût.\n",
    "\t\t$\t\\min_{\\theta}J(\\theta)$\t\n",
    "\t\t\n",
    "\t\t\n",
    "***Algorithme du Gradient de descent***: $ \\theta_j=\\theta_j-\\alpha\t\\frac{1}{m}\\sum_{i=0}^{m} (h_\\theta(x(i))-y(i))x_j(i)$\n"
   ]
  },
  {
   "cell_type": "markdown",
   "metadata": {},
   "source": [
    "### 1. Recuperation des données\n",
    "#### ***Q1***\n",
    "   -utilisez la fonction ***make_blobs(n_samples,centers, cluster_std,random_state)*** du module ***sklearn.datasets*** pour generer deux classes puis visualiser les deux classes comme suivants:\n",
    "*   rouge: y=0\n",
    "*   blue: y=1\n",
    "<img src=\"log.png\" style=\"with:150px;height:280px\"/>"
   ]
  },
  {
   "cell_type": "code",
   "execution_count": 3,
   "metadata": {},
   "outputs": [
    {
     "ename": "ImportError",
     "evalue": "cannot import name 'plt' from 'matplotlib.pyplot' (C:\\Users\\ASUS\\anaconda3\\lib\\site-packages\\matplotlib\\pyplot.py)",
     "output_type": "error",
     "traceback": [
      "\u001b[1;31m---------------------------------------------------------------------------\u001b[0m",
      "\u001b[1;31mImportError\u001b[0m                               Traceback (most recent call last)",
      "\u001b[1;32m~\\AppData\\Local\\Temp/ipykernel_12368/4078754576.py\u001b[0m in \u001b[0;36m<module>\u001b[1;34m\u001b[0m\n\u001b[0;32m      1\u001b[0m \u001b[1;32mfrom\u001b[0m \u001b[0msklearn\u001b[0m\u001b[1;33m.\u001b[0m\u001b[0mdatasets\u001b[0m \u001b[1;32mimport\u001b[0m \u001b[0mmake_blobs\u001b[0m\u001b[1;33m\u001b[0m\u001b[1;33m\u001b[0m\u001b[0m\n\u001b[1;32m----> 2\u001b[1;33m \u001b[1;32mfrom\u001b[0m \u001b[0mmatplotlib\u001b[0m\u001b[1;33m.\u001b[0m\u001b[0mpyplot\u001b[0m \u001b[1;32mimport\u001b[0m \u001b[0mplt\u001b[0m\u001b[1;33m\u001b[0m\u001b[1;33m\u001b[0m\u001b[0m\n\u001b[0m\u001b[0;32m      3\u001b[0m \u001b[0mX\u001b[0m\u001b[1;33m,\u001b[0m \u001b[0my\u001b[0m \u001b[1;33m=\u001b[0m \u001b[0mmake_blobs\u001b[0m\u001b[1;33m(\u001b[0m\u001b[0mn_samples\u001b[0m\u001b[1;33m=\u001b[0m\u001b[1;36m10\u001b[0m\u001b[1;33m,\u001b[0m \u001b[0mcenters\u001b[0m\u001b[1;33m=\u001b[0m\u001b[1;36m3\u001b[0m\u001b[1;33m,\u001b[0m \u001b[0mn_features\u001b[0m\u001b[1;33m=\u001b[0m\u001b[1;36m2\u001b[0m\u001b[1;33m,\u001b[0m\u001b[0mrandom_state\u001b[0m\u001b[1;33m=\u001b[0m\u001b[1;36m0\u001b[0m\u001b[1;33m)\u001b[0m\u001b[1;33m\u001b[0m\u001b[1;33m\u001b[0m\u001b[0m\n\u001b[0;32m      4\u001b[0m \u001b[0mplt\u001b[0m\u001b[1;33m.\u001b[0m\u001b[0mscatter\u001b[0m\u001b[1;33m(\u001b[0m\u001b[0mX\u001b[0m\u001b[1;33m,\u001b[0m\u001b[0my\u001b[0m\u001b[1;33m)\u001b[0m\u001b[1;33m\u001b[0m\u001b[1;33m\u001b[0m\u001b[0m\n",
      "\u001b[1;31mImportError\u001b[0m: cannot import name 'plt' from 'matplotlib.pyplot' (C:\\Users\\ASUS\\anaconda3\\lib\\site-packages\\matplotlib\\pyplot.py)"
     ]
    }
   ],
   "source": [
    "from sklearn.datasets import make_blobs\n",
    "import matplotlib.pyplot as plt\n",
    "X, y = make_blobs(n_samples=10, centers=3, n_features=2,random_state=0)\n",
    "plt.scatter(X,y)"
   ]
  },
  {
   "cell_type": "markdown",
   "metadata": {},
   "source": [
    "#### ***Q2***   \n",
    "          -a)Corriger les dimentions avec np.reshape\n",
    "      \n",
    "          -b)Créez la matrice X\n",
    "          \n",
    "          -c) Créez le vecteur $\\theta$ (initialisé avec des coefficients nuls)"
   ]
  },
  {
   "cell_type": "code",
   "execution_count": null,
   "metadata": {},
   "outputs": [],
   "source": []
  },
  {
   "cell_type": "markdown",
   "metadata": {},
   "source": [
    "### 2. Implémentation du modèle et évaluation\n",
    " ####  ***Q1***\n",
    " \n",
    "       "
   ]
  },
  {
   "cell_type": "markdown",
   "metadata": {},
   "source": [
    " a) Implémenter la ***fonction sigmoid*** $h_\\theta(x)= \\frac{1}{1+\\exp(-X\\theta)}$\n",
    " \n",
    " b) Ecrire la ***Fonction du coût***:$J(\\theta)=-\\frac{1}{m}\\sum_{i=0}^{m} y(i)\\log(h_\\theta(x(i)))+(1-y(i)) \\log(1-h_\\theta(x(i))$\n",
    " \n",
    " c) Ecrire un script qui définit la fonction du gradiant $$ \\frac{\\delta J(\\theta)}{\\delta \\theta}=\\frac{1}{m}X^T.(X.\\theta-y)$$\n",
    " \n",
    " d) Implementer la descente de gradient en utilisant de gradiant:\n",
    "$$ \\theta\\leftarrow \\theta- \\alpha\\frac{\\delta J(\\theta)}{\\delta \\theta}$$\n",
    " \n",
    " e) Trouver les valeurs de $\\theta$ pour un learning rate $\\alpha=0.1$ et un nombre d'itérations de $150$"
   ]
  },
  {
   "cell_type": "code",
   "execution_count": null,
   "metadata": {},
   "outputs": [],
   "source": []
  },
  {
   "cell_type": "code",
   "execution_count": null,
   "metadata": {},
   "outputs": [],
   "source": []
  },
  {
   "cell_type": "code",
   "execution_count": null,
   "metadata": {},
   "outputs": [],
   "source": []
  },
  {
   "cell_type": "code",
   "execution_count": null,
   "metadata": {},
   "outputs": [],
   "source": []
  },
  {
   "cell_type": "markdown",
   "metadata": {},
   "source": [
    " ####  ***Q2***\n",
    " \n",
    " a) Evaluer le modèle en calculant le coefficient de corrélation\n",
    " \n",
    " b) Tracer la courbe d'apprantissage"
   ]
  },
  {
   "cell_type": "code",
   "execution_count": null,
   "metadata": {},
   "outputs": [],
   "source": []
  },
  {
   "cell_type": "code",
   "execution_count": null,
   "metadata": {},
   "outputs": [],
   "source": []
  },
  {
   "cell_type": "code",
   "execution_count": null,
   "metadata": {},
   "outputs": [],
   "source": [
    "   "
   ]
  },
  {
   "cell_type": "markdown",
   "metadata": {},
   "source": [
    "### 3. Prédiction\n",
    "\n",
    "A quelle classe apartient les deux points suivants: x1=(1,5); x2(3,1) "
   ]
  },
  {
   "cell_type": "code",
   "execution_count": null,
   "metadata": {},
   "outputs": [],
   "source": []
  },
  {
   "cell_type": "markdown",
   "metadata": {},
   "source": [
    "## II- Utilisation des modules python\n",
    "### 1. Récuperation des données\n",
    "Les données sont stocker dans le fichier banking.csv. Ce dataset contient des information collecter par un centre d'appel pour savoir si un client souscrira (1/0) à un dépôt à terme (variable y) dans une baque.\n",
    "\n",
    "1-Recuperer les données de ce fichier dans un DataFrame data\n",
    "\n",
    "2-Afficher les 10 premiere ligne de ce dataframe\n",
    "\n",
    "3-Afficher le nombre de client par class (1/0)"
   ]
  },
  {
   "cell_type": "code",
   "execution_count": null,
   "metadata": {},
   "outputs": [],
   "source": []
  },
  {
   "cell_type": "markdown",
   "metadata": {},
   "source": [
    "### 2- Entrainement et test du modèle\n",
    "Dans un premier lieux, nous allons utiliser comme critères de classifiction suivants:\n",
    "\"age\": l'age du client\n",
    "\"emp_var_rate\": employment variation rate\n",
    "\"cons_conf_idx\": consumer confidence index\n",
    "\n",
    "1- Creer deux numpy array X et y\n",
    "\n",
    "X: les trois colonne \"age\",\"emp_var_rate\" et \"cons_conf_idx\"\n",
    "\n",
    "y: \"y\"\n",
    "\n",
    "2- Nous allons utiliser **80%** du dataSet pour l'entrainement et **20%** pour le teste du modèle. utiliser la méthode **train_test_split()** du module **sklearn.model_selection** pour créer ces deux sous ensembles (X_train,X_test,y_train,y_test).\n",
    "\n",
    "3- Creer un objet **LogisticRegression** du module **sklearn.linear_model** et utiliser **(X_train,y_train)** pour entrainer le model à l'aide la méthode **fit()** du même objet.\n",
    "\n",
    "4- Utiliser la méthode **predict(X_test)** pour predire les classe des élément de X_test : y_pred\n",
    "\n",
    "5- Les performences du modele sont alors mesurer à l'aide 4 metriques:\n",
    "**TP: Nombre de True positives y_test==y_pred==1**\n",
    "\n",
    "**TN: Nombre de True negatives y_test==y_pred==0**\n",
    "\n",
    "**FP: Nombre de False positives y_test!=y_pred==1**\n",
    "\n",
    "**FN: Nombre de False negatives y_test!=y_pred==0**\n",
    "\n",
    "\n",
    "**$$Accuracy = (TP+TN)/(TP+TN+FP+FN) $$**\n",
    "\n",
    "Calculer la precision de ce modèle?\n",
    "\n",
    "6- Ces 4 metriques forment ce qu'on appel une **Confusion Matrix** disponible comme méthode dans le module **sklearn.metrics** :  **Confusion Matrix(y_test, y_pred)**\n",
    "\n",
    "Recalculer precision de ce modèle on utilisant cette matrice de confusion"
   ]
  },
  {
   "cell_type": "code",
   "execution_count": null,
   "metadata": {},
   "outputs": [],
   "source": []
  },
  {
   "cell_type": "markdown",
   "metadata": {},
   "source": [
    "### 3- prediction\n",
    "Voici des information de trois clients:\n",
    "\n",
    "client1:  {\"age\": 55, \"emp_var_rate\": -2.9, \"cons_conf_idx\": 31.4}\n",
    "\n",
    "client2:  {\"age\": 45, \"emp_var_rate\": 3.7,\"cons_conf_idx\": 4}\n",
    "\n",
    "client3:  {\"age\": 39, \"emp_var_rate\": 3.3,\"cons_conf_idx\": 6}\n",
    "\n",
    "1- Créer un DataFrame à partir de ce données\n",
    "\n",
    "2- Lequel de ces client souscrira à un dépôt à terme"
   ]
  },
  {
   "cell_type": "code",
   "execution_count": null,
   "metadata": {},
   "outputs": [],
   "source": []
  },
  {
   "cell_type": "code",
   "execution_count": null,
   "metadata": {},
   "outputs": [],
   "source": []
  },
  {
   "cell_type": "code",
   "execution_count": null,
   "metadata": {},
   "outputs": [],
   "source": []
  }
 ],
 "metadata": {
  "kernelspec": {
   "display_name": "Python 3 (ipykernel)",
   "language": "python",
   "name": "python3"
  },
  "language_info": {
   "codemirror_mode": {
    "name": "ipython",
    "version": 3
   },
   "file_extension": ".py",
   "mimetype": "text/x-python",
   "name": "python",
   "nbconvert_exporter": "python",
   "pygments_lexer": "ipython3",
   "version": "3.9.7"
  }
 },
 "nbformat": 4,
 "nbformat_minor": 4
}
