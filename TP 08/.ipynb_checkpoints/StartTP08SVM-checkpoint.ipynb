{
 "cells": [
  {
   "cell_type": "markdown",
   "metadata": {
    "id": "0pKAU-iLP4dT"
   },
   "source": [
    "# **TP08 SVM (Support vector Machine)**"
   ]
  },
  {
   "cell_type": "markdown",
   "metadata": {
    "id": "LRQdLnPZQI7w"
   },
   "source": [
    "## **Partie 1**\n",
    "\n",
    "#### Q1. Récupération des données\n",
    "\n",
    "1-Utiliser load_iris  de la librairie sklearn.datasets pour récuperer les données de ce fichier \n",
    "\n",
    "2-Afficher les variables explicatives et et la variable explicatives.\n",
    "\n",
    "\n"
   ]
  },
  {
   "cell_type": "code",
   "execution_count": 2,
   "metadata": {
    "id": "ur00oZUPGGXw"
   },
   "outputs": [],
   "source": [
    "from sklearn.datasets import load_iris"
   ]
  },
  {
   "cell_type": "code",
   "execution_count": 3,
   "metadata": {
    "id": "WnmVFOZBGbOJ"
   },
   "outputs": [],
   "source": [
    "data = load_iris()"
   ]
  },
  {
   "cell_type": "code",
   "execution_count": 4,
   "metadata": {
    "id": "QgpX_xgWGeVH"
   },
   "outputs": [
    {
     "data": {
      "text/plain": [
       "array([5.1, 3.5, 1.4, 0.2, 4.9, 3. , 1.4, 0.2, 4.7, 3.2, 1.3, 0.2, 4.6,\n",
       "       3.1, 1.5, 0.2, 5. , 3.6, 1.4, 0.2, 5.4, 3.9, 1.7, 0.4, 4.6, 3.4,\n",
       "       1.4, 0.3, 5. , 3.4, 1.5, 0.2, 4.4, 2.9, 1.4, 0.2, 4.9, 3.1, 1.5,\n",
       "       0.1, 5.4, 3.7, 1.5, 0.2, 4.8, 3.4, 1.6, 0.2, 4.8, 3. , 1.4, 0.1,\n",
       "       4.3, 3. , 1.1, 0.1, 5.8, 4. , 1.2, 0.2, 5.7, 4.4, 1.5, 0.4, 5.4,\n",
       "       3.9, 1.3, 0.4, 5.1, 3.5, 1.4, 0.3, 5.7, 3.8, 1.7, 0.3, 5.1, 3.8,\n",
       "       1.5, 0.3, 5.4, 3.4, 1.7, 0.2, 5.1, 3.7, 1.5, 0.4, 4.6, 3.6, 1. ,\n",
       "       0.2, 5.1, 3.3, 1.7, 0.5, 4.8, 3.4, 1.9, 0.2, 5. , 3. , 1.6, 0.2,\n",
       "       5. , 3.4, 1.6, 0.4, 5.2, 3.5, 1.5, 0.2, 5.2, 3.4, 1.4, 0.2, 4.7,\n",
       "       3.2, 1.6, 0.2, 4.8, 3.1, 1.6, 0.2, 5.4, 3.4, 1.5, 0.4, 5.2, 4.1,\n",
       "       1.5, 0.1, 5.5, 4.2, 1.4, 0.2, 4.9, 3.1, 1.5, 0.2, 5. , 3.2, 1.2,\n",
       "       0.2, 5.5, 3.5, 1.3, 0.2, 4.9, 3.6, 1.4, 0.1, 4.4, 3. , 1.3, 0.2,\n",
       "       5.1, 3.4, 1.5, 0.2, 5. , 3.5, 1.3, 0.3, 4.5, 2.3, 1.3, 0.3, 4.4,\n",
       "       3.2, 1.3, 0.2, 5. , 3.5, 1.6, 0.6, 5.1, 3.8, 1.9, 0.4, 4.8, 3. ,\n",
       "       1.4, 0.3, 5.1, 3.8, 1.6, 0.2, 4.6, 3.2, 1.4, 0.2, 5.3, 3.7, 1.5,\n",
       "       0.2, 5. , 3.3, 1.4, 0.2, 7. , 3.2, 4.7, 1.4, 6.4, 3.2, 4.5, 1.5,\n",
       "       6.9, 3.1, 4.9, 1.5, 5.5, 2.3, 4. , 1.3, 6.5, 2.8, 4.6, 1.5, 5.7,\n",
       "       2.8, 4.5, 1.3, 6.3, 3.3, 4.7, 1.6, 4.9, 2.4, 3.3, 1. , 6.6, 2.9,\n",
       "       4.6, 1.3, 5.2, 2.7, 3.9, 1.4, 5. , 2. , 3.5, 1. , 5.9, 3. , 4.2,\n",
       "       1.5, 6. , 2.2, 4. , 1. , 6.1, 2.9, 4.7, 1.4, 5.6, 2.9, 3.6, 1.3,\n",
       "       6.7, 3.1, 4.4, 1.4, 5.6, 3. , 4.5, 1.5, 5.8, 2.7, 4.1, 1. , 6.2,\n",
       "       2.2, 4.5, 1.5, 5.6, 2.5, 3.9, 1.1, 5.9, 3.2, 4.8, 1.8, 6.1, 2.8,\n",
       "       4. , 1.3, 6.3, 2.5, 4.9, 1.5, 6.1, 2.8, 4.7, 1.2, 6.4, 2.9, 4.3,\n",
       "       1.3, 6.6, 3. , 4.4, 1.4, 6.8, 2.8, 4.8, 1.4, 6.7, 3. , 5. , 1.7,\n",
       "       6. , 2.9, 4.5, 1.5, 5.7, 2.6, 3.5, 1. , 5.5, 2.4, 3.8, 1.1, 5.5,\n",
       "       2.4, 3.7, 1. , 5.8, 2.7, 3.9, 1.2, 6. , 2.7, 5.1, 1.6, 5.4, 3. ,\n",
       "       4.5, 1.5, 6. , 3.4, 4.5, 1.6, 6.7, 3.1, 4.7, 1.5, 6.3, 2.3, 4.4,\n",
       "       1.3, 5.6, 3. , 4.1, 1.3, 5.5, 2.5, 4. , 1.3, 5.5, 2.6, 4.4, 1.2,\n",
       "       6.1, 3. , 4.6, 1.4, 5.8, 2.6, 4. , 1.2, 5. , 2.3, 3.3, 1. , 5.6,\n",
       "       2.7, 4.2, 1.3, 5.7, 3. , 4.2, 1.2, 5.7, 2.9, 4.2, 1.3, 6.2, 2.9,\n",
       "       4.3, 1.3, 5.1, 2.5, 3. , 1.1, 5.7, 2.8, 4.1, 1.3, 6.3, 3.3, 6. ,\n",
       "       2.5, 5.8, 2.7, 5.1, 1.9, 7.1, 3. , 5.9, 2.1, 6.3, 2.9, 5.6, 1.8,\n",
       "       6.5, 3. , 5.8, 2.2, 7.6, 3. , 6.6, 2.1, 4.9, 2.5, 4.5, 1.7, 7.3,\n",
       "       2.9, 6.3, 1.8, 6.7, 2.5, 5.8, 1.8, 7.2, 3.6, 6.1, 2.5, 6.5, 3.2,\n",
       "       5.1, 2. , 6.4, 2.7, 5.3, 1.9, 6.8, 3. , 5.5, 2.1, 5.7, 2.5, 5. ,\n",
       "       2. , 5.8, 2.8, 5.1, 2.4, 6.4, 3.2, 5.3, 2.3, 6.5, 3. , 5.5, 1.8,\n",
       "       7.7, 3.8, 6.7, 2.2, 7.7, 2.6, 6.9, 2.3, 6. , 2.2, 5. , 1.5, 6.9,\n",
       "       3.2, 5.7, 2.3, 5.6, 2.8, 4.9, 2. , 7.7, 2.8, 6.7, 2. , 6.3, 2.7,\n",
       "       4.9, 1.8, 6.7, 3.3, 5.7, 2.1, 7.2, 3.2, 6. , 1.8, 6.2, 2.8, 4.8,\n",
       "       1.8, 6.1, 3. , 4.9, 1.8, 6.4, 2.8, 5.6, 2.1, 7.2, 3. , 5.8, 1.6,\n",
       "       7.4, 2.8, 6.1, 1.9, 7.9, 3.8, 6.4, 2. , 6.4, 2.8, 5.6, 2.2, 6.3,\n",
       "       2.8, 5.1, 1.5, 6.1, 2.6, 5.6, 1.4, 7.7, 3. , 6.1, 2.3, 6.3, 3.4,\n",
       "       5.6, 2.4, 6.4, 3.1, 5.5, 1.8, 6. , 3. , 4.8, 1.8, 6.9, 3.1, 5.4,\n",
       "       2.1, 6.7, 3.1, 5.6, 2.4, 6.9, 3.1, 5.1, 2.3, 5.8, 2.7, 5.1, 1.9,\n",
       "       6.8, 3.2, 5.9, 2.3, 6.7, 3.3, 5.7, 2.5, 6.7, 3. , 5.2, 2.3, 6.3,\n",
       "       2.5, 5. , 1.9, 6.5, 3. , 5.2, 2. , 6.2, 3.4, 5.4, 2.3, 5.9, 3. ,\n",
       "       5.1, 1.8])"
      ]
     },
     "execution_count": 4,
     "metadata": {},
     "output_type": "execute_result"
    }
   ],
   "source": [
    "# Explicatives\n",
    "data.data.reshape(-1)"
   ]
  },
  {
   "cell_type": "code",
   "execution_count": 5,
   "metadata": {
    "id": "RXS1QIW4Gl9c"
   },
   "outputs": [
    {
     "data": {
      "text/plain": [
       "array([0, 0, 0, 0, 0, 0, 0, 0, 0, 0, 0, 0, 0, 0, 0, 0, 0, 0, 0, 0, 0, 0,\n",
       "       0, 0, 0, 0, 0, 0, 0, 0, 0, 0, 0, 0, 0, 0, 0, 0, 0, 0, 0, 0, 0, 0,\n",
       "       0, 0, 0, 0, 0, 0, 1, 1, 1, 1, 1, 1, 1, 1, 1, 1, 1, 1, 1, 1, 1, 1,\n",
       "       1, 1, 1, 1, 1, 1, 1, 1, 1, 1, 1, 1, 1, 1, 1, 1, 1, 1, 1, 1, 1, 1,\n",
       "       1, 1, 1, 1, 1, 1, 1, 1, 1, 1, 1, 1, 2, 2, 2, 2, 2, 2, 2, 2, 2, 2,\n",
       "       2, 2, 2, 2, 2, 2, 2, 2, 2, 2, 2, 2, 2, 2, 2, 2, 2, 2, 2, 2, 2, 2,\n",
       "       2, 2, 2, 2, 2, 2, 2, 2, 2, 2, 2, 2, 2, 2, 2, 2, 2, 2])"
      ]
     },
     "execution_count": 5,
     "metadata": {},
     "output_type": "execute_result"
    }
   ],
   "source": [
    "# Target \n",
    "data.target.reshape(-1)"
   ]
  },
  {
   "cell_type": "markdown",
   "metadata": {
    "id": "mJwcWGvTRQHK"
   },
   "source": [
    "#### Q2. Selection des caracteristiques\n",
    "Créer les deux dataframes:\n",
    "- X: le dataframe des entrée \n",
    "- y: la sortie "
   ]
  },
  {
   "cell_type": "code",
   "execution_count": 6,
   "metadata": {
    "id": "i2T0v-81H_So"
   },
   "outputs": [],
   "source": [
    "X = data.data\n",
    "Y = data.target"
   ]
  },
  {
   "cell_type": "markdown",
   "metadata": {
    "id": "zRPGfhsmRdgq"
   },
   "source": [
    "#### Q3. Partitionner ces données en X_train, X_test, y_train, y_test"
   ]
  },
  {
   "cell_type": "code",
   "execution_count": 7,
   "metadata": {
    "id": "pe3PUMzlIoiz"
   },
   "outputs": [],
   "source": [
    "from sklearn.model_selection import train_test_split\n",
    "X_train, X_test, y_train, y_test = train_test_split(X, Y, test_size=0.25, random_state=42)"
   ]
  },
  {
   "cell_type": "markdown",
   "metadata": {
    "id": "YsNKzy8eRz7y"
   },
   "source": [
    "#### Q4. Création, entrainement et évaluation du modèle SVM\n",
    "1. Utiliser le classifieur ***svm*** du module ***sklearn*** pour initialiser et entrainer quatres modèles svm avec les parametres suivants:\n",
    ">- kernel: \"linear\";  C: 1\n",
    ">- kernel: \"linear\";  C: 10 ; gamma=10\n",
    ">- kernel: \"rbf\"   ;  C: 1 ; gamma=10\n",
    ">- kernel: \"rbf\"   ;  C: 3"
   ]
  },
  {
   "cell_type": "code",
   "execution_count": 8,
   "metadata": {
    "id": "czLYV2o4Itvy"
   },
   "outputs": [],
   "source": [
    "from sklearn import svm"
   ]
  },
  {
   "cell_type": "code",
   "execution_count": 10,
   "metadata": {
    "id": "R-5hSju1Ivmp"
   },
   "outputs": [],
   "source": [
    "clf_one = svm.SVC(kernel = \"linear\" ,C = 1).fit(X_train, y_train)\n",
    "clf_two = svm.SVC(kernel = \"linear\" ,C = 10 , gamma = 10).fit(X_train, y_train)\n",
    "clf_tre = svm.SVC(kernel = \"rbf\" ,C = 1  , gamma = 10).fit(X_train, y_train)\n",
    "clf_for = svm.SVC(kernel = \"rbf\" ,C = 3).fit(X_train, y_train)"
   ]
  },
  {
   "cell_type": "markdown",
   "metadata": {
    "id": "TlR3haPzZkWh"
   },
   "source": [
    "#### Q5. Comparaison des deux modèles\n",
    "1. pour chacun des quatres modèles, afficher la matrice de confusion\n",
    "\n",
    "2. Quel est le meilleur modèle pour ce problème? pourquoi?"
   ]
  },
  {
   "cell_type": "code",
   "execution_count": 11,
   "metadata": {},
   "outputs": [],
   "source": [
    "from sklearn.metrics import confusion_matrix"
   ]
  },
  {
   "cell_type": "code",
   "execution_count": 12,
   "metadata": {},
   "outputs": [
    {
     "data": {
      "text/plain": [
       "array([[15,  0,  0],\n",
       "       [ 0, 11,  0],\n",
       "       [ 0,  0, 12]])"
      ]
     },
     "execution_count": 12,
     "metadata": {},
     "output_type": "execute_result"
    }
   ],
   "source": [
    "predect_one = clf_one.predict(X_test)\n",
    "confusion_matrix(y_test , predect_one)"
   ]
  },
  {
   "cell_type": "code",
   "execution_count": 13,
   "metadata": {},
   "outputs": [
    {
     "data": {
      "text/plain": [
       "array([[15,  0,  0],\n",
       "       [ 0, 10,  1],\n",
       "       [ 0,  0, 12]])"
      ]
     },
     "execution_count": 13,
     "metadata": {},
     "output_type": "execute_result"
    }
   ],
   "source": [
    "predect_two = clf_two.predict(X_test)\n",
    "confusion_matrix(y_test , predect_two)"
   ]
  },
  {
   "cell_type": "code",
   "execution_count": 14,
   "metadata": {},
   "outputs": [
    {
     "data": {
      "text/plain": [
       "array([[13,  0,  2],\n",
       "       [ 0, 11,  0],\n",
       "       [ 0,  0, 12]])"
      ]
     },
     "execution_count": 14,
     "metadata": {},
     "output_type": "execute_result"
    }
   ],
   "source": [
    "predect_tre = clf_tre.predict(X_test)\n",
    "confusion_matrix(y_test , predect_tre)"
   ]
  },
  {
   "cell_type": "code",
   "execution_count": 15,
   "metadata": {},
   "outputs": [
    {
     "data": {
      "text/plain": [
       "array([[15,  0,  0],\n",
       "       [ 0, 11,  0],\n",
       "       [ 0,  0, 12]])"
      ]
     },
     "execution_count": 15,
     "metadata": {},
     "output_type": "execute_result"
    }
   ],
   "source": [
    "predect_for = clf_for.predict(X_test)\n",
    "confusion_matrix(y_test , predect_for)"
   ]
  },
  {
   "cell_type": "markdown",
   "metadata": {
    "id": "DsEa4rwHZzRm"
   },
   "source": [
    "## **Partie II**"
   ]
  },
  {
   "cell_type": "markdown",
   "metadata": {
    "id": "YAKYSlrfaHDI"
   },
   "source": [
    "Entraînez le classificateur SVM à l'aide de l'ensemble de données sklearn digits (c'est-à-dire à partir de sklearn.datasets import load_digits), \n",
    "- Partitionner ces données en X_train, X_test, y_train, y_test\n",
    "- Mesurez accurancy de votre modèle à l'aide de différents kernels tels que rbf et linear.\n",
    "-Ajustez davantage votre modèle en utilisant les paramètres de régularisation et gamma et essayez d'obtenir le score de précision le plus élevé"
   ]
  },
  {
   "cell_type": "code",
   "execution_count": 46,
   "metadata": {
    "id": "-qdr7gP7a_Ke"
   },
   "outputs": [],
   "source": [
    "from sklearn.datasets import load_digits\n",
    "data_two = load_digits()"
   ]
  },
  {
   "cell_type": "code",
   "execution_count": 47,
   "metadata": {},
   "outputs": [],
   "source": [
    "X = data_two.data\n",
    "X_image = data_two.images\n",
    "Y = data_two.target"
   ]
  },
  {
   "cell_type": "code",
   "execution_count": 48,
   "metadata": {},
   "outputs": [],
   "source": [
    "from sklearn.model_selection import train_test_split\n",
    "X_train, X_test, y_train, y_test = train_test_split(X, Y, test_size=0.25, random_state=42)"
   ]
  },
  {
   "cell_type": "code",
   "execution_count": 49,
   "metadata": {},
   "outputs": [
    {
     "name": "stdout",
     "output_type": "stream",
     "text": [
      "Model Score of Kernal(rbf) : 0.9866666666666667\n"
     ]
    }
   ],
   "source": [
    "from sklearn.metrics import accuracy_score\n",
    "from sklearn.svm import SVC\n",
    "\n",
    "model1 = SVC(kernel='rbf',random_state=0, probability=True)\n",
    "model1.fit(X_train,y_train)\n",
    "y_pred_1 = model1.predict(X_test)\n",
    "\n",
    "print(\"Model Score of Kernal(rbf) :\", model1.score(X_test,y_test))"
   ]
  },
  {
   "cell_type": "code",
   "execution_count": 50,
   "metadata": {},
   "outputs": [
    {
     "name": "stdout",
     "output_type": "stream",
     "text": [
      "Model Score of Kernal(linear) : 0.9822222222222222\n"
     ]
    }
   ],
   "source": [
    "model2=SVC(kernel='linear',random_state=0, probability=True)\n",
    "model2.fit(X_train,y_train)\n",
    "y_pred_2=model2.predict(X_test)\n",
    "\n",
    "print(\"Model Score of Kernal(linear) :\", model2.score(X_test,y_test))"
   ]
  },
  {
   "cell_type": "code",
   "execution_count": 51,
   "metadata": {},
   "outputs": [
    {
     "name": "stdout",
     "output_type": "stream",
     "text": [
      "Model Score of Kernal(poly) : 0.9933333333333333\n"
     ]
    }
   ],
   "source": [
    "model3=SVC(kernel='poly',random_state=0, probability=True)\n",
    "model3.fit(X_train,y_train)\n",
    "y_pred_3=model3.predict(X_test)\n",
    "\n",
    "print(\"Model Score of Kernal(poly) :\", model3.score(X_test,y_test))"
   ]
  }
 ],
 "metadata": {
  "colab": {
   "name": "StartTP08SVM.ipynb",
   "provenance": []
  },
  "kernelspec": {
   "display_name": "Python 3",
   "language": "python",
   "name": "python3"
  },
  "language_info": {
   "codemirror_mode": {
    "name": "ipython",
    "version": 3
   },
   "file_extension": ".py",
   "mimetype": "text/x-python",
   "name": "python",
   "nbconvert_exporter": "python",
   "pygments_lexer": "ipython3",
   "version": "3.8.10"
  }
 },
 "nbformat": 4,
 "nbformat_minor": 1
}
