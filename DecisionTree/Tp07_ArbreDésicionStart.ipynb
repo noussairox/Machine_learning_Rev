{
 "cells": [
  {
   "cell_type": "markdown",
   "metadata": {
    "id": "WbYNIivEF2e7"
   },
   "source": [
    "# **TP07: Arbre de décision**\n",
    "Un arbre de décision est un schéma représentant les résultats possibles d'une série de choix interconnectés.\n",
    "\n",
    "Il permet d'évaluer différentes actions possibles en fonction de leur coût, leur probabilité, de leurs bénéfices. \n",
    "\n",
    "Il peut être utilisé  pour générer un algorithme qui détermine le meilleur choix de façon mathématique."
   ]
  },
  {
   "cell_type": "markdown",
   "metadata": {
    "id": "LhG8yo-EGUv7"
   },
   "source": [
    "## **Partie I:Build decision tree model to predict survival based on certain parameters**\n",
    "Les données sont stocker dans le fichier Titanic.csv qui contient des données des passagers du Titanic. Chaque ligne représente une personne. Les colonnes décrivent différents attributs de la personne, notamment si elle a survécu, son âge, sa classe de passagers, son sexe...\n",
    "\n",
    "**Q1-** Importer les données"
   ]
  },
  {
   "cell_type": "code",
   "execution_count": 1,
   "metadata": {
    "id": "ylFxJO6bGgrD"
   },
   "outputs": [],
   "source": [
    "import numpy as np\n",
    "import matplotlib.pyplot as plt\n",
    "import pandas as pd\n",
    "import seaborn as sns\n",
    "df=sns.load_dataset('titanic')"
   ]
  },
  {
   "cell_type": "code",
   "execution_count": 2,
   "metadata": {
    "id": "6wF-VYIaG8Qo"
   },
   "outputs": [
    {
     "data": {
      "text/html": [
       "<div>\n",
       "<style scoped>\n",
       "    .dataframe tbody tr th:only-of-type {\n",
       "        vertical-align: middle;\n",
       "    }\n",
       "\n",
       "    .dataframe tbody tr th {\n",
       "        vertical-align: top;\n",
       "    }\n",
       "\n",
       "    .dataframe thead th {\n",
       "        text-align: right;\n",
       "    }\n",
       "</style>\n",
       "<table border=\"1\" class=\"dataframe\">\n",
       "  <thead>\n",
       "    <tr style=\"text-align: right;\">\n",
       "      <th></th>\n",
       "      <th>survived</th>\n",
       "      <th>pclass</th>\n",
       "      <th>sex</th>\n",
       "      <th>age</th>\n",
       "      <th>sibsp</th>\n",
       "      <th>parch</th>\n",
       "      <th>fare</th>\n",
       "      <th>embarked</th>\n",
       "      <th>class</th>\n",
       "      <th>who</th>\n",
       "      <th>adult_male</th>\n",
       "      <th>deck</th>\n",
       "      <th>embark_town</th>\n",
       "      <th>alive</th>\n",
       "      <th>alone</th>\n",
       "    </tr>\n",
       "  </thead>\n",
       "  <tbody>\n",
       "    <tr>\n",
       "      <th>0</th>\n",
       "      <td>0</td>\n",
       "      <td>3</td>\n",
       "      <td>male</td>\n",
       "      <td>22.0</td>\n",
       "      <td>1</td>\n",
       "      <td>0</td>\n",
       "      <td>7.2500</td>\n",
       "      <td>S</td>\n",
       "      <td>Third</td>\n",
       "      <td>man</td>\n",
       "      <td>True</td>\n",
       "      <td>NaN</td>\n",
       "      <td>Southampton</td>\n",
       "      <td>no</td>\n",
       "      <td>False</td>\n",
       "    </tr>\n",
       "    <tr>\n",
       "      <th>1</th>\n",
       "      <td>1</td>\n",
       "      <td>1</td>\n",
       "      <td>female</td>\n",
       "      <td>38.0</td>\n",
       "      <td>1</td>\n",
       "      <td>0</td>\n",
       "      <td>71.2833</td>\n",
       "      <td>C</td>\n",
       "      <td>First</td>\n",
       "      <td>woman</td>\n",
       "      <td>False</td>\n",
       "      <td>C</td>\n",
       "      <td>Cherbourg</td>\n",
       "      <td>yes</td>\n",
       "      <td>False</td>\n",
       "    </tr>\n",
       "    <tr>\n",
       "      <th>2</th>\n",
       "      <td>1</td>\n",
       "      <td>3</td>\n",
       "      <td>female</td>\n",
       "      <td>26.0</td>\n",
       "      <td>0</td>\n",
       "      <td>0</td>\n",
       "      <td>7.9250</td>\n",
       "      <td>S</td>\n",
       "      <td>Third</td>\n",
       "      <td>woman</td>\n",
       "      <td>False</td>\n",
       "      <td>NaN</td>\n",
       "      <td>Southampton</td>\n",
       "      <td>yes</td>\n",
       "      <td>True</td>\n",
       "    </tr>\n",
       "    <tr>\n",
       "      <th>3</th>\n",
       "      <td>1</td>\n",
       "      <td>1</td>\n",
       "      <td>female</td>\n",
       "      <td>35.0</td>\n",
       "      <td>1</td>\n",
       "      <td>0</td>\n",
       "      <td>53.1000</td>\n",
       "      <td>S</td>\n",
       "      <td>First</td>\n",
       "      <td>woman</td>\n",
       "      <td>False</td>\n",
       "      <td>C</td>\n",
       "      <td>Southampton</td>\n",
       "      <td>yes</td>\n",
       "      <td>False</td>\n",
       "    </tr>\n",
       "    <tr>\n",
       "      <th>4</th>\n",
       "      <td>0</td>\n",
       "      <td>3</td>\n",
       "      <td>male</td>\n",
       "      <td>35.0</td>\n",
       "      <td>0</td>\n",
       "      <td>0</td>\n",
       "      <td>8.0500</td>\n",
       "      <td>S</td>\n",
       "      <td>Third</td>\n",
       "      <td>man</td>\n",
       "      <td>True</td>\n",
       "      <td>NaN</td>\n",
       "      <td>Southampton</td>\n",
       "      <td>no</td>\n",
       "      <td>True</td>\n",
       "    </tr>\n",
       "    <tr>\n",
       "      <th>...</th>\n",
       "      <td>...</td>\n",
       "      <td>...</td>\n",
       "      <td>...</td>\n",
       "      <td>...</td>\n",
       "      <td>...</td>\n",
       "      <td>...</td>\n",
       "      <td>...</td>\n",
       "      <td>...</td>\n",
       "      <td>...</td>\n",
       "      <td>...</td>\n",
       "      <td>...</td>\n",
       "      <td>...</td>\n",
       "      <td>...</td>\n",
       "      <td>...</td>\n",
       "      <td>...</td>\n",
       "    </tr>\n",
       "    <tr>\n",
       "      <th>886</th>\n",
       "      <td>0</td>\n",
       "      <td>2</td>\n",
       "      <td>male</td>\n",
       "      <td>27.0</td>\n",
       "      <td>0</td>\n",
       "      <td>0</td>\n",
       "      <td>13.0000</td>\n",
       "      <td>S</td>\n",
       "      <td>Second</td>\n",
       "      <td>man</td>\n",
       "      <td>True</td>\n",
       "      <td>NaN</td>\n",
       "      <td>Southampton</td>\n",
       "      <td>no</td>\n",
       "      <td>True</td>\n",
       "    </tr>\n",
       "    <tr>\n",
       "      <th>887</th>\n",
       "      <td>1</td>\n",
       "      <td>1</td>\n",
       "      <td>female</td>\n",
       "      <td>19.0</td>\n",
       "      <td>0</td>\n",
       "      <td>0</td>\n",
       "      <td>30.0000</td>\n",
       "      <td>S</td>\n",
       "      <td>First</td>\n",
       "      <td>woman</td>\n",
       "      <td>False</td>\n",
       "      <td>B</td>\n",
       "      <td>Southampton</td>\n",
       "      <td>yes</td>\n",
       "      <td>True</td>\n",
       "    </tr>\n",
       "    <tr>\n",
       "      <th>888</th>\n",
       "      <td>0</td>\n",
       "      <td>3</td>\n",
       "      <td>female</td>\n",
       "      <td>NaN</td>\n",
       "      <td>1</td>\n",
       "      <td>2</td>\n",
       "      <td>23.4500</td>\n",
       "      <td>S</td>\n",
       "      <td>Third</td>\n",
       "      <td>woman</td>\n",
       "      <td>False</td>\n",
       "      <td>NaN</td>\n",
       "      <td>Southampton</td>\n",
       "      <td>no</td>\n",
       "      <td>False</td>\n",
       "    </tr>\n",
       "    <tr>\n",
       "      <th>889</th>\n",
       "      <td>1</td>\n",
       "      <td>1</td>\n",
       "      <td>male</td>\n",
       "      <td>26.0</td>\n",
       "      <td>0</td>\n",
       "      <td>0</td>\n",
       "      <td>30.0000</td>\n",
       "      <td>C</td>\n",
       "      <td>First</td>\n",
       "      <td>man</td>\n",
       "      <td>True</td>\n",
       "      <td>C</td>\n",
       "      <td>Cherbourg</td>\n",
       "      <td>yes</td>\n",
       "      <td>True</td>\n",
       "    </tr>\n",
       "    <tr>\n",
       "      <th>890</th>\n",
       "      <td>0</td>\n",
       "      <td>3</td>\n",
       "      <td>male</td>\n",
       "      <td>32.0</td>\n",
       "      <td>0</td>\n",
       "      <td>0</td>\n",
       "      <td>7.7500</td>\n",
       "      <td>Q</td>\n",
       "      <td>Third</td>\n",
       "      <td>man</td>\n",
       "      <td>True</td>\n",
       "      <td>NaN</td>\n",
       "      <td>Queenstown</td>\n",
       "      <td>no</td>\n",
       "      <td>True</td>\n",
       "    </tr>\n",
       "  </tbody>\n",
       "</table>\n",
       "<p>891 rows × 15 columns</p>\n",
       "</div>"
      ],
      "text/plain": [
       "     survived  pclass     sex   age  sibsp  parch     fare embarked   class  \\\n",
       "0           0       3    male  22.0      1      0   7.2500        S   Third   \n",
       "1           1       1  female  38.0      1      0  71.2833        C   First   \n",
       "2           1       3  female  26.0      0      0   7.9250        S   Third   \n",
       "3           1       1  female  35.0      1      0  53.1000        S   First   \n",
       "4           0       3    male  35.0      0      0   8.0500        S   Third   \n",
       "..        ...     ...     ...   ...    ...    ...      ...      ...     ...   \n",
       "886         0       2    male  27.0      0      0  13.0000        S  Second   \n",
       "887         1       1  female  19.0      0      0  30.0000        S   First   \n",
       "888         0       3  female   NaN      1      2  23.4500        S   Third   \n",
       "889         1       1    male  26.0      0      0  30.0000        C   First   \n",
       "890         0       3    male  32.0      0      0   7.7500        Q   Third   \n",
       "\n",
       "       who  adult_male deck  embark_town alive  alone  \n",
       "0      man        True  NaN  Southampton    no  False  \n",
       "1    woman       False    C    Cherbourg   yes  False  \n",
       "2    woman       False  NaN  Southampton   yes   True  \n",
       "3    woman       False    C  Southampton   yes  False  \n",
       "4      man        True  NaN  Southampton    no   True  \n",
       "..     ...         ...  ...          ...   ...    ...  \n",
       "886    man        True  NaN  Southampton    no   True  \n",
       "887  woman       False    B  Southampton   yes   True  \n",
       "888  woman       False  NaN  Southampton    no  False  \n",
       "889    man        True    C    Cherbourg   yes   True  \n",
       "890    man        True  NaN   Queenstown    no   True  \n",
       "\n",
       "[891 rows x 15 columns]"
      ]
     },
     "execution_count": 2,
     "metadata": {},
     "output_type": "execute_result"
    }
   ],
   "source": [
    "df"
   ]
  },
  {
   "cell_type": "markdown",
   "metadata": {
    "id": "LQErfbjuHCJc"
   },
   "source": [
    "Q2-Construire le Modèle d'arbre de décision en utilisant **\"DecisionTreeClassifier\"** de sklearn.tree \n",
    "\n",
    "Nous allons utiliser 80% du dataSet pour l'entrainement et 20% pour le teste du modèle."
   ]
  },
  {
   "cell_type": "code",
   "execution_count": 3,
   "metadata": {
    "id": "RPD6zaD7HBEv"
   },
   "outputs": [],
   "source": [
    "from sklearn.tree import DecisionTreeClassifier\n",
    "from sklearn.model_selection import train_test_split\n",
    "df['sex'] = df['sex'].replace(['male','female'],[1,0])\n",
    "df.dropna(axis=0, inplace=True)\n",
    "X=np.array(df[['pclass','sex','age']])\n",
    "Y=np.array(df[[\"alive\"]])"
   ]
  },
  {
   "cell_type": "code",
   "execution_count": 4,
   "metadata": {},
   "outputs": [],
   "source": [
    "X_train, X_test, y_train, y_test = train_test_split(X, Y, test_size=0.2, random_state=42)"
   ]
  },
  {
   "cell_type": "code",
   "execution_count": 13,
   "metadata": {},
   "outputs": [
    {
     "data": {
      "text/plain": [
       "DecisionTreeClassifier(random_state=0)"
      ]
     },
     "execution_count": 13,
     "metadata": {},
     "output_type": "execute_result"
    }
   ],
   "source": [
    "model=DecisionTreeClassifier(random_state=0)\n",
    "model.fit(X_train,y_train)"
   ]
  },
  {
   "cell_type": "code",
   "execution_count": 15,
   "metadata": {
    "id": "XCKK3p3hI4yt"
   },
   "outputs": [
    {
     "data": {
      "text/plain": [
       "0.7297297297297297"
      ]
     },
     "execution_count": 15,
     "metadata": {},
     "output_type": "execute_result"
    }
   ],
   "source": [
    "acc=len([1 for i in range(len(model.predict(X_test))) if(model.predict(X_test)[i]==y_test[i])])/len(y_test)\n",
    "acc"
   ]
  },
  {
   "cell_type": "markdown",
   "metadata": {
    "id": "V8Y-oEPNI9vW"
   },
   "source": [
    "**Q3** Génér l'image de notre arbre"
   ]
  },
  {
   "cell_type": "code",
   "execution_count": 98,
   "metadata": {},
   "outputs": [
    {
     "data": {
      "text/plain": [
       "Text(31.387500000000003, 178.61142857142858, 'gini = 0.0\\nsamples = 2\\nvalue = [2, 0]')"
      ]
     },
     "execution_count": 98,
     "metadata": {},
     "output_type": "execute_result"
    },
    {
     "data": {
      "image/png": "[encoded data removed]",
      "text/plain": [
       "<Figure size 432x288 with 1 Axes>"
      ]
     },
     "metadata": {
      "needs_background": "light"
     },
     "output_type": "display_data"
    }
   ],
   "source": [
    "import sklearn.tree as tree\n",
    "tree.plot_tree(model)[2]"
   ]
  },
  {
   "cell_type": "markdown",
   "metadata": {
    "id": "u1iQZnSzKNbE"
   },
   "source": [
    "**Q4- prediction** \n",
    "\n",
    "Voici des information de trois passagers:\n",
    "\n",
    "passager1:  {\"pclass\": 1, \"sex\":1 , \"age\": 20}\n",
    "\n",
    "passager2:  {\"pclass\": 2, \"sex\":1 , \"age\": 7}\n",
    "\n",
    "passager3:  {\"pclass\": 3, \"sex\": 0, \"age\": 35}\n",
    "\n",
    "1- Créer un DataFrame à partir de ce données\n",
    "\n",
    "2- Lequel des passagers vont etre par les survivant?\n",
    "\n",
    "3-Comparer les résultats avec la méthode du KNN"
   ]
  },
  {
   "cell_type": "code",
   "execution_count": 103,
   "metadata": {
    "id": "KU0yqiVlKhv1"
   },
   "outputs": [
    {
     "data": {
      "text/plain": [
       "array(['no', 'yes', 'yes'], dtype=object)"
      ]
     },
     "execution_count": 103,
     "metadata": {},
     "output_type": "execute_result"
    }
   ],
   "source": [
    "Data={'pclass':[1,2,3],'sex':[1,1,0],'age':[20,7,35]}\n",
    "new_df=pd.DataFrame.from_dict(Data)\n",
    "model.predict(new_df)"
   ]
  },
  {
   "cell_type": "markdown",
   "metadata": {
    "id": "cb8JtetnGqjL"
   },
   "source": [
    "## **Partie II**"
   ]
  },
  {
   "cell_type": "markdown",
   "metadata": {
    "id": "ml-biR6TefG7"
   },
   "source": [
    "Les données sont stocker dans le fichier salaries.csv qui contient des données des salariés. Chaque ligne représente une personne. Les colonnes décrivent différents attributs de la personne, notamment si elle a un salaire plus que 100K, la companie, diplome. \n",
    "\n",
    "L'objectif de cette partie est de prédire le salaire une personne en fonction de son diplome, profession et la company."
   ]
  },
  {
   "cell_type": "markdown",
   "metadata": {
    "id": "YMt2pWHlfZji"
   },
   "source": [
    " **Q_1** Importer les données"
   ]
  },
  {
   "cell_type": "code",
   "execution_count": null,
   "metadata": {
    "executionInfo": {
     "elapsed": 5,
     "status": "ok",
     "timestamp": 1646210764824,
     "user": {
      "displayName": "Khadija Sadik",
      "photoUrl": "https://lh3.googleusercontent.com/a-/AOh14GhDnXdY3IvS2R5Ro34rY4qjicQTWQNlObEaPNE3BQ=s64",
      "userId": "13657018244830121943"
     },
     "user_tz": -60
    },
    "id": "UUYlc16fN8Y-"
   },
   "outputs": [],
   "source": []
  },
  {
   "cell_type": "markdown",
   "metadata": {
    "id": "Bhc78El1fuYc"
   },
   "source": [
    "**Q2-**1-Construiser X et Y \n",
    "\n",
    "X: les trois colonne \"company\",\"job\" et \"degrees\"\n",
    "\n",
    "y: \"salary_more_then_100k\"\n",
    "\n",
    "2- Transformer la variable qualitatif ( utiliser **LabelEncoder** from **sklearn.preprocessing **)\n",
    "\n",
    "-\"company\" en variable numérique( google=2,abc pharma=1, facebook=0)\n",
    "\n",
    "-\"job\"en variable numérique( sales executive=2,computer programmer =1, business manager=0)\n",
    "\n",
    "-\"degrees\"en variable numérique( bachelors=0,masters =1)\n",
    "\n",
    "\n"
   ]
  },
  {
   "cell_type": "code",
   "execution_count": null,
   "metadata": {
    "executionInfo": {
     "elapsed": 855,
     "status": "ok",
     "timestamp": 1646210779332,
     "user": {
      "displayName": "Khadija Sadik",
      "photoUrl": "https://lh3.googleusercontent.com/a-/AOh14GhDnXdY3IvS2R5Ro34rY4qjicQTWQNlObEaPNE3BQ=s64",
      "userId": "13657018244830121943"
     },
     "user_tz": -60
    },
    "id": "ZpFnTt8OQqLx"
   },
   "outputs": [],
   "source": []
  },
  {
   "cell_type": "code",
   "execution_count": null,
   "metadata": {
    "executionInfo": {
     "elapsed": 5,
     "status": "ok",
     "timestamp": 1646210779333,
     "user": {
      "displayName": "Khadija Sadik",
      "photoUrl": "https://lh3.googleusercontent.com/a-/AOh14GhDnXdY3IvS2R5Ro34rY4qjicQTWQNlObEaPNE3BQ=s64",
      "userId": "13657018244830121943"
     },
     "user_tz": -60
    },
    "id": "gcJ4WxxMQ2PM"
   },
   "outputs": [],
   "source": []
  },
  {
   "cell_type": "code",
   "execution_count": null,
   "metadata": {
    "executionInfo": {
     "elapsed": 5,
     "status": "ok",
     "timestamp": 1646210779334,
     "user": {
      "displayName": "Khadija Sadik",
      "photoUrl": "https://lh3.googleusercontent.com/a-/AOh14GhDnXdY3IvS2R5Ro34rY4qjicQTWQNlObEaPNE3BQ=s64",
      "userId": "13657018244830121943"
     },
     "user_tz": -60
    },
    "id": "VK2THi9WQ6IG"
   },
   "outputs": [],
   "source": []
  },
  {
   "cell_type": "code",
   "execution_count": null,
   "metadata": {
    "executionInfo": {
     "elapsed": 4,
     "status": "ok",
     "timestamp": 1646210779928,
     "user": {
      "displayName": "Khadija Sadik",
      "photoUrl": "https://lh3.googleusercontent.com/a-/AOh14GhDnXdY3IvS2R5Ro34rY4qjicQTWQNlObEaPNE3BQ=s64",
      "userId": "13657018244830121943"
     },
     "user_tz": -60
    },
    "id": "LcG1BsT-RN-h"
   },
   "outputs": [],
   "source": []
  },
  {
   "cell_type": "markdown",
   "metadata": {
    "id": "JOEXuiEQhIWP"
   },
   "source": [
    "**Q3**- Construire le Modèle d'arbre de décision en utilisant **\"DecisionTreeClassifier\"** de sklearn.tree."
   ]
  },
  {
   "cell_type": "code",
   "execution_count": null,
   "metadata": {
    "executionInfo": {
     "elapsed": 4,
     "status": "ok",
     "timestamp": 1646210779929,
     "user": {
      "displayName": "Khadija Sadik",
      "photoUrl": "https://lh3.googleusercontent.com/a-/AOh14GhDnXdY3IvS2R5Ro34rY4qjicQTWQNlObEaPNE3BQ=s64",
      "userId": "13657018244830121943"
     },
     "user_tz": -60
    },
    "id": "LWf7MICNRzcH"
   },
   "outputs": [],
   "source": []
  },
  {
   "cell_type": "markdown",
   "metadata": {
    "id": "2h7sFK4bhUY8"
   },
   "source": [
    "**Q4** Génér l'image de notre arbre"
   ]
  },
  {
   "cell_type": "code",
   "execution_count": null,
   "metadata": {
    "executionInfo": {
     "elapsed": 4,
     "status": "ok",
     "timestamp": 1646210780276,
     "user": {
      "displayName": "Khadija Sadik",
      "photoUrl": "https://lh3.googleusercontent.com/a-/AOh14GhDnXdY3IvS2R5Ro34rY4qjicQTWQNlObEaPNE3BQ=s64",
      "userId": "13657018244830121943"
     },
     "user_tz": -60
    },
    "id": "epWCZg_LTDBO"
   },
   "outputs": [],
   "source": []
  },
  {
   "cell_type": "markdown",
   "metadata": {
    "id": "j8HXf_IWhW3L"
   },
   "source": [
    "**Q4- prediction** \n",
    "\n",
    "Voici des information de trois salarié:\n",
    "\n",
    "salaries1:  {\"company\": google, \"job\":computer programmer , \"degrees\": bachelor}\n",
    "\n",
    "salaries2:  {\"company\": facebook, \"job\":computer programmer , \"degrees\": masters}\n",
    "\n",
    "salaries3:  {\"company\": abc pharma, \"job\": business manager, \"degrees\": masters}\n",
    "\n",
    "1- Créer un DataFrame à partir de ce données\n",
    "\n",
    "2- Lequel des salariés vont avoir un salaire plus que 100K?"
   ]
  },
  {
   "cell_type": "code",
   "execution_count": null,
   "metadata": {
    "executionInfo": {
     "elapsed": 5,
     "status": "ok",
     "timestamp": 1646210781035,
     "user": {
      "displayName": "Khadija Sadik",
      "photoUrl": "https://lh3.googleusercontent.com/a-/AOh14GhDnXdY3IvS2R5Ro34rY4qjicQTWQNlObEaPNE3BQ=s64",
      "userId": "13657018244830121943"
     },
     "user_tz": -60
    },
    "id": "x3HGI2kOSvoO"
   },
   "outputs": [],
   "source": []
  },
  {
   "cell_type": "code",
   "execution_count": null,
   "metadata": {
    "executionInfo": {
     "elapsed": 5,
     "status": "ok",
     "timestamp": 1646210783456,
     "user": {
      "displayName": "Khadija Sadik",
      "photoUrl": "https://lh3.googleusercontent.com/a-/AOh14GhDnXdY3IvS2R5Ro34rY4qjicQTWQNlObEaPNE3BQ=s64",
      "userId": "13657018244830121943"
     },
     "user_tz": -60
    },
    "id": "Kj29g6sjiIQo"
   },
   "outputs": [],
   "source": []
  }
 ],
 "metadata": {
  "colab": {
   "collapsed_sections": [],
   "name": "Tp07_ArbreDésicionStart.ipynb",
   "provenance": []
  },
  "kernelspec": {
   "display_name": "Python 3",
   "language": "python",
   "name": "python3"
  },
  "language_info": {
   "codemirror_mode": {
    "name": "ipython",
    "version": 3
   },
   "file_extension": ".py",
   "mimetype": "text/x-python",
   "name": "python",
   "nbconvert_exporter": "python",
   "pygments_lexer": "ipython3",
   "version": "3.8.5"
  }
 },
 "nbformat": 4,
 "nbformat_minor": 1
}
