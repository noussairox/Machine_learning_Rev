{
 "cells": [
  {
   "cell_type": "code",
   "execution_count": 1,
   "id": "521a6f18",
   "metadata": {},
   "outputs": [],
   "source": [
    "import numpy as np\n",
    "import matplotlib.pyplot as plt\n",
    "from sklearn.datasets import make_blobs"
   ]
  },
  {
   "cell_type": "code",
   "execution_count": 5,
   "id": "555ba8df",
   "metadata": {},
   "outputs": [
    {
     "name": "stdout",
     "output_type": "stream",
     "text": [
      "X dimension (100, 2)\n",
      "Y dimension (100, 1)\n"
     ]
    },
    {
     "data": {
      "text/plain": [
       "<matplotlib.collections.PathCollection at 0x2517fb84610>"
      ]
     },
     "execution_count": 5,
     "metadata": {},
     "output_type": "execute_result"
    },
    {
     "data": {
      "image/png": "[encoded data removed]",
      "text/plain": [
       "<Figure size 432x288 with 1 Axes>"
      ]
     },
     "metadata": {
      "needs_background": "light"
     },
     "output_type": "display_data"
    }
   ],
   "source": [
    "X , y = make_blobs(n_samples=100 , n_features=2 , centers=2 ,random_state=0)\n",
    "y = y.reshape((y.shape[0],1))\n",
    "\n",
    "print('X dimension',X.shape)\n",
    "print('Y dimension',y.shape)\n",
    "\n",
    "plt.scatter(X[:,0],X[:,1],c=y, cmap ='summer')\n"
   ]
  },
  {
   "cell_type": "code",
   "execution_count": 6,
   "id": "f4048252",
   "metadata": {},
   "outputs": [],
   "source": [
    "def initialisation(X):\n",
    "    W = np.random.randn(X.shape[1],1)\n",
    "    b = np.random.randn(1)\n",
    "    return (W,b)"
   ]
  },
  {
   "cell_type": "code",
   "execution_count": 12,
   "id": "06c9b6ac",
   "metadata": {},
   "outputs": [],
   "source": [
    "def model(X,W,b):\n",
    "    Z = X.dot(W) + b\n",
    "    A = 1/ (1+np.exp(-Z))\n",
    "    return A"
   ]
  },
  {
   "cell_type": "code",
   "execution_count": 13,
   "id": "2a251f5b",
   "metadata": {},
   "outputs": [],
   "source": [
    "A = model(X,W,b)"
   ]
  },
  {
   "cell_type": "code",
   "execution_count": 14,
   "id": "2abdbc0f",
   "metadata": {},
   "outputs": [
    {
     "data": {
      "text/plain": [
       "(100, 1)"
      ]
     },
     "execution_count": 14,
     "metadata": {},
     "output_type": "execute_result"
    }
   ],
   "source": [
    "A.shape"
   ]
  },
  {
   "cell_type": "code",
   "execution_count": 15,
   "id": "71100222",
   "metadata": {},
   "outputs": [],
   "source": [
    "def log_loss(A,y):\n",
    "    m = len(y)\n",
    "    return 1/m * np.sum(-y * np.log(A)-(1-y)*np.log(1-A))"
   ]
  },
  {
   "cell_type": "code",
   "execution_count": 17,
   "id": "d9f02ce1",
   "metadata": {},
   "outputs": [
    {
     "data": {
      "text/plain": [
       "5.100972643513434"
      ]
     },
     "execution_count": 17,
     "metadata": {},
     "output_type": "execute_result"
    }
   ],
   "source": [
    "log_loss(A,y)"
   ]
  },
  {
   "cell_type": "code",
   "execution_count": 18,
   "id": "d3f0db06",
   "metadata": {},
   "outputs": [],
   "source": [
    "def gradients(A,X,y):\n",
    "    dW= 1/len(y) * np.dot(X.T,A-y)\n",
    "    db = 1/len(y) * np.sum(A-y)\n",
    "    return (dW , db)"
   ]
  },
  {
   "cell_type": "code",
   "execution_count": 20,
   "id": "f5b83a53",
   "metadata": {},
   "outputs": [],
   "source": [
    "def update(dW,db,W,b,learning_rate):\n",
    "    W = W - learning_rate * dW\n",
    "    b = b - learning_rate * db\n",
    "    return (W,b)"
   ]
  },
  {
   "cell_type": "code",
   "execution_count": 31,
   "id": "8eed12ac",
   "metadata": {},
   "outputs": [],
   "source": [
    "from sklearn.metrics import accuracy_score"
   ]
  },
  {
   "cell_type": "code",
   "execution_count": 34,
   "id": "b8a586f4",
   "metadata": {},
   "outputs": [],
   "source": [
    "def ANN(X,y,learning_rate = 0.1,n_iteration =100):\n",
    "    #initialisation W,b\n",
    "    W,b = initialisation(X)\n",
    "    loss = []\n",
    "    \n",
    "    for i in range(n_iteration):\n",
    "        A = model(X,W,b)\n",
    "        loss.append(log_loss(A,y))\n",
    "        dW, db = gradients(A,X,y)\n",
    "        W ,b = update(dW,db,W,b,learning_rate)\n",
    "    \n",
    "    y_pred = predict(X,W,b)\n",
    "    print(accuracy_score(y,y_pred))\n",
    "    \n",
    "    plt.plot(loss)\n",
    "    plt.show()\n",
    "    \n",
    "    return (W,b)"
   ]
  },
  {
   "cell_type": "code",
   "execution_count": 35,
   "id": "243c334c",
   "metadata": {},
   "outputs": [
    {
     "name": "stdout",
     "output_type": "stream",
     "text": [
      "0.92\n"
     ]
    },
    {
     "data": {
      "image/png": "[encoded data removed]",
      "text/plain": [
       "<Figure size 432x288 with 1 Axes>"
      ]
     },
     "metadata": {
      "needs_background": "light"
     },
     "output_type": "display_data"
    },
    {
     "data": {
      "text/plain": [
       "(array([[ 1.12079857],\n",
       "        [-1.24598264]]),\n",
       " array([1.2879978]))"
      ]
     },
     "execution_count": 35,
     "metadata": {},
     "output_type": "execute_result"
    }
   ],
   "source": [
    "ANN(X,y)"
   ]
  },
  {
   "cell_type": "code",
   "execution_count": 30,
   "id": "896bc26f",
   "metadata": {},
   "outputs": [],
   "source": [
    "def predict(X,W,b):\n",
    "    A = model(X,W,b)\n",
    "    return A >=0.5"
   ]
  },
  {
   "cell_type": "code",
   "execution_count": 38,
   "id": "129bcb9b",
   "metadata": {},
   "outputs": [
    {
     "data": {
      "text/plain": [
       "array([ True])"
      ]
     },
     "execution_count": 38,
     "metadata": {},
     "output_type": "execute_result"
    },
    {
     "data": {
      "image/png": "[encoded data removed]",
      "text/plain": [
       "<Figure size 432x288 with 1 Axes>"
      ]
     },
     "metadata": {
      "needs_background": "light"
     },
     "output_type": "display_data"
    }
   ],
   "source": [
    "new_plant = np.array([2,1])\n",
    "plt.scatter(X[:,0],X[:,1],c=y,cmap='summer')\n",
    "plt.scatter(new_plant[0],new_plant[0],c='r')\n",
    "predict(new_plant,W,b)"
   ]
  },
  {
   "cell_type": "code",
   "execution_count": null,
   "id": "0c21b5cd",
   "metadata": {},
   "outputs": [],
   "source": []
  }
 ],
 "metadata": {
  "kernelspec": {
   "display_name": "Python 3 (ipykernel)",
   "language": "python",
   "name": "python3"
  },
  "language_info": {
   "codemirror_mode": {
    "name": "ipython",
    "version": 3
   },
   "file_extension": ".py",
   "mimetype": "text/x-python",
   "name": "python",
   "nbconvert_exporter": "python",
   "pygments_lexer": "ipython3",
   "version": "3.9.7"
  }
 },
 "nbformat": 4,
 "nbformat_minor": 5
}
